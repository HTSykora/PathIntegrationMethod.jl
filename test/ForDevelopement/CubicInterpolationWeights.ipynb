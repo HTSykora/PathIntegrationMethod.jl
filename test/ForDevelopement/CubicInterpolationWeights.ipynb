{
 "cells": [
  {
   "cell_type": "code",
   "execution_count": 30,
   "source": [
    "using SymPy\n",
    "\n",
    "@syms x ai bi ci di Δ δ\n",
    "h0 = SymPy.symbols(\"h_{i-1}\")\n",
    "h1 = SymPy.symbols(\"h_{i}\")\n",
    "h2 = SymPy.symbols(\"h_{i+1}\")\n",
    "h3 = SymPy.symbols(\"h_{i+2}\")"
   ],
   "outputs": [
    {
     "data": {
      "text/latex": [
       "$\\begin{equation*}h_{i+2}\\end{equation*}$\n"
      ],
      "text/plain": [
       "h_{i+2}"
      ]
     },
     "metadata": {},
     "output_type": "display_data"
    }
   ],
   "metadata": {}
  },
  {
   "cell_type": "markdown",
   "source": [
    "# General case"
   ],
   "metadata": {}
  },
  {
   "cell_type": "code",
   "execution_count": 31,
   "source": [
    "eqs = [\n",
    "    di - h1, # f(0)\n",
    "    ai * Δ^3 + bi * Δ^2 + ci * Δ + di - h2, # f(Δ)\n",
    "    ci - (h2 - h0)/2Δ,# f'(0)\n",
    "    3ai * Δ^2 + 2bi * Δ + ci - (h3 - h1)/2Δ # f'(Δ)\n",
    "]"
   ],
   "outputs": [
    {
     "data": {
      "text/latex": [
       "$\\left[ \\begin{array}{r}di - h_{i}\\\\ai Δ^{3} + bi Δ^{2} + ci Δ + di - h_{i+1}\\\\ci - \\frac{h_{i+1} - h_{i-1}}{2 Δ}\\\\3 ai Δ^{2} + 2 bi Δ + ci - \\frac{h_{i+2} - h_{i}}{2 Δ}\\end{array} \\right]$\n"
      ],
      "text/plain": [
       "4-element Vector{Sym}:\n",
       "                                       di - h_{i}\n",
       "            ai*Δ^3 + bi*Δ^2 + ci*Δ + di - h_{i+1}\n",
       "                   ci - (h_{i+1} - h_{i-1})/(2*Δ)\n",
       " 3*ai*Δ^2 + 2*bi*Δ + ci - (h_{i+2} - h_{i})/(2*Δ)"
      ]
     },
     "metadata": {},
     "output_type": "display_data"
    }
   ],
   "metadata": {}
  },
  {
   "cell_type": "code",
   "execution_count": 32,
   "source": [
    "sol = solve(eqs,(ai,bi,ci,di))"
   ],
   "outputs": [
    {
     "data": {
      "text/plain": [
       "Dict{Any, Any} with 4 entries:\n",
       "  ci => (h_{i+1} - h_{i-1})/(2*Δ)\n",
       "  bi => (4*h_{i+1} - h_{i+2} + 2*h_{i-1} - 5*h_{i})/(2*Δ^2)\n",
       "  ai => (-3*h_{i+1} + h_{i+2} - h_{i-1} + 3*h_{i})/(2*Δ^3)\n",
       "  di => h_{i}"
      ]
     },
     "metadata": {},
     "output_type": "display_data"
    }
   ],
   "metadata": {}
  },
  {
   "cell_type": "code",
   "execution_count": 33,
   "source": [
    "appr = (ai * x^3 + bi * x^2 + ci * x + di).subs(sol) |> expand"
   ],
   "outputs": [
    {
     "data": {
      "text/latex": [
       "$\\begin{equation*}- \\frac{3 h_{i+1} x^{3}}{2 Δ^{3}} + \\frac{2 h_{i+1} x^{2}}{Δ^{2}} + \\frac{h_{i+1} x}{2 Δ} + \\frac{h_{i+2} x^{3}}{2 Δ^{3}} - \\frac{h_{i+2} x^{2}}{2 Δ^{2}} - \\frac{h_{i-1} x^{3}}{2 Δ^{3}} + \\frac{h_{i-1} x^{2}}{Δ^{2}} - \\frac{h_{i-1} x}{2 Δ} + \\frac{3 h_{i} x^{3}}{2 Δ^{3}} - \\frac{5 h_{i} x^{2}}{2 Δ^{2}} + h_{i}\\end{equation*}$\n"
      ],
      "text/plain": [
       "             3              2                        3            2           \n",
       "  3⋅h_{i+1}⋅x    2⋅h_{i+1}⋅x    h_{i+1}⋅x   h_{i+2}⋅x    h_{i+2}⋅x    h_{i-1}⋅\n",
       "- ──────────── + ──────────── + ───────── + ────────── - ────────── - ────────\n",
       "         3             2           2⋅Δ            3            2            3 \n",
       "      2⋅Δ             Δ                        2⋅Δ          2⋅Δ          2⋅Δ  \n",
       "\n",
       " 3            2                        3            2        \n",
       "x    h_{i-1}⋅x    h_{i-1}⋅x   3⋅h_{i}⋅x    5⋅h_{i}⋅x         \n",
       "── + ────────── - ───────── + ────────── - ────────── + h_{i}\n",
       "          2          2⋅Δ            3            2           \n",
       "         Δ                       2⋅Δ          2⋅Δ            "
      ]
     },
     "metadata": {},
     "output_type": "display_data"
    }
   ],
   "metadata": {}
  },
  {
   "cell_type": "code",
   "execution_count": 34,
   "source": [
    "appr.coeff(h0).subs(x/Δ,δ) |> display\n",
    "appr.coeff(h1).subs(x/Δ,δ) |> display\n",
    "appr.coeff(h2).subs(x/Δ,δ) |> display\n",
    "appr.coeff(h3).subs(x/Δ,δ) |> display"
   ],
   "outputs": [
    {
     "data": {
      "text/latex": [
       "$\\begin{equation*}- \\frac{δ^{3}}{2} + δ^{2} - \\frac{δ}{2}\\end{equation*}$\n"
      ],
      "text/plain": [
       "   3         \n",
       "  δ     2   δ\n",
       "- ── + δ  - ─\n",
       "  2         2"
      ]
     },
     "metadata": {},
     "output_type": "display_data"
    },
    {
     "data": {
      "text/latex": [
       "$\\begin{equation*}\\frac{3 δ^{3}}{2} - \\frac{5 δ^{2}}{2} + 1\\end{equation*}$\n"
      ],
      "text/plain": [
       "   3      2    \n",
       "3⋅δ    5⋅δ     \n",
       "──── - ──── + 1\n",
       " 2      2      "
      ]
     },
     "metadata": {},
     "output_type": "display_data"
    },
    {
     "data": {
      "text/latex": [
       "$\\begin{equation*}- \\frac{3 δ^{3}}{2} + 2 δ^{2} + \\frac{δ}{2}\\end{equation*}$\n"
      ],
      "text/plain": [
       "     3           \n",
       "  3⋅δ       2   δ\n",
       "- ──── + 2⋅δ  + ─\n",
       "   2            2"
      ]
     },
     "metadata": {},
     "output_type": "display_data"
    },
    {
     "data": {
      "text/latex": [
       "$\\begin{equation*}\\frac{δ^{3}}{2} - \\frac{δ^{2}}{2}\\end{equation*}$\n"
      ],
      "text/plain": [
       " 3    2\n",
       "δ    δ \n",
       "── - ──\n",
       "2    2 "
      ]
     },
     "metadata": {},
     "output_type": "display_data"
    }
   ],
   "metadata": {}
  },
  {
   "cell_type": "markdown",
   "source": [
    "# Near endpoints"
   ],
   "metadata": {}
  },
  {
   "cell_type": "code",
   "execution_count": 45,
   "source": [
    "m = 1 ## Assuming explicit derivative in the beginning\n",
    "m = 2 ## Midpoint approximated with the same end value\n",
    "m = 2//3 ## Mean of the 2 approaches\n",
    "\n",
    "eqs_1 = [\n",
    "    di - h1, # f(0)\n",
    "    ai * Δ^3 + bi * Δ^2 + ci * Δ + di - h2, # f(Δ)\n",
    "    ci - 2*(h2 - h1)/3Δ,# f'(0)\n",
    "    3ai * Δ^2 + 2bi * Δ + ci - (h3 - h1)/(m*Δ) # f'(Δ)\n",
    "]\n",
    "display(eqs_1)\n",
    "sol_1 = solve(eqs_1,(ai,bi,ci,di))\n",
    "appr = (ai * x^3 + bi * x^2 + ci * x + di).subs(sol_1) |> expand\n",
    "\n",
    "appr.coeff(h0).subs(x/Δ,δ) |> display\n",
    "appr.coeff(h1).subs(x/Δ,δ) |> display\n",
    "appr.coeff(h2).subs(x/Δ,δ) |> display\n",
    "appr.coeff(h3).subs(x/Δ,δ) |> display"
   ],
   "outputs": [
    {
     "data": {
      "text/latex": [
       "$\\left[ \\begin{array}{r}di - h_{i}\\\\ai Δ^{3} + bi Δ^{2} + ci Δ + di - h_{i+1}\\\\ci - \\frac{2 h_{i+1} - 2 h_{i}}{3 Δ}\\\\3 ai Δ^{2} + 2 bi Δ + ci - \\frac{3 \\left(h_{i+2} - h_{i}\\right)}{2 Δ}\\end{array} \\right]$\n"
      ],
      "text/plain": [
       "4-element Vector{Sym}:\n",
       "                                         di - h_{i}\n",
       "              ai*Δ^3 + bi*Δ^2 + ci*Δ + di - h_{i+1}\n",
       "                   ci - (2*h_{i+1} - 2*h_{i})/(3*Δ)\n",
       " 3*ai*Δ^2 + 2*bi*Δ + ci - 3*(h_{i+2} - h_{i})/(2*Δ)"
      ]
     },
     "metadata": {},
     "output_type": "display_data"
    },
    {
     "data": {
      "text/latex": [
       "$\\begin{equation*}0\\end{equation*}$\n"
      ],
      "text/plain": [
       "0"
      ]
     },
     "metadata": {},
     "output_type": "display_data"
    },
    {
     "data": {
      "text/latex": [
       "$\\begin{equation*}- \\frac{δ^{3}}{6} - \\frac{δ^{2}}{6} - \\frac{2 δ}{3} + 1\\end{equation*}$\n"
      ],
      "text/plain": [
       "   3    2          \n",
       "  δ    δ    2⋅δ    \n",
       "- ── - ── - ─── + 1\n",
       "  6    6     3     "
      ]
     },
     "metadata": {},
     "output_type": "display_data"
    },
    {
     "data": {
      "text/latex": [
       "$\\begin{equation*}- \\frac{4 δ^{3}}{3} + \\frac{5 δ^{2}}{3} + \\frac{2 δ}{3}\\end{equation*}$\n"
      ],
      "text/plain": [
       "     3      2      \n",
       "  4⋅δ    5⋅δ    2⋅δ\n",
       "- ──── + ──── + ───\n",
       "   3      3      3 "
      ]
     },
     "metadata": {},
     "output_type": "display_data"
    },
    {
     "data": {
      "text/latex": [
       "$\\begin{equation*}\\frac{3 δ^{3}}{2} - \\frac{3 δ^{2}}{2}\\end{equation*}$\n"
      ],
      "text/plain": [
       "   3      2\n",
       "3⋅δ    3⋅δ \n",
       "──── - ────\n",
       " 2      2  "
      ]
     },
     "metadata": {},
     "output_type": "display_data"
    }
   ],
   "metadata": {}
  },
  {
   "cell_type": "code",
   "execution_count": 46,
   "source": [
    "m = 1 ## Assuming explicit derivative in the beginning\n",
    "m = 2 ## Midpoint approximated with the same end value\n",
    "m = 2//3 ## Mean of the 2 approaches\n",
    "\n",
    "eqs_end = [\n",
    "    di - h1, # f(0)\n",
    "    ai * Δ^3 + bi * Δ^2 + ci * Δ + di - h2, # f(Δ)\n",
    "    ci - (h2 - h0)/2Δ,# f'(0)\n",
    "    3ai * Δ^2 + 2bi * Δ + ci - (h2 - h1)/(m*Δ) # f'(Δ)\n",
    "]\n",
    "display(eqs_end)\n",
    "sol_end = solve(eqs_end,(ai,bi,ci,di))\n",
    "appr = (ai * x^3 + bi * x^2 + ci * x + di).subs(sol_end) |> expand\n",
    "\n",
    "appr.coeff(h0).subs(x/Δ,δ) |> display\n",
    "appr.coeff(h1).subs(x/Δ,δ) |> display\n",
    "appr.coeff(h2).subs(x/Δ,δ) |> display\n",
    "appr.coeff(h3).subs(x/Δ,δ) |> display"
   ],
   "outputs": [
    {
     "data": {
      "text/latex": [
       "$\\left[ \\begin{array}{r}di - h_{i}\\\\ai Δ^{3} + bi Δ^{2} + ci Δ + di - h_{i+1}\\\\ci - \\frac{h_{i+1} - h_{i-1}}{2 Δ}\\\\3 ai Δ^{2} + 2 bi Δ + ci - \\frac{3 \\left(h_{i+1} - h_{i}\\right)}{2 Δ}\\end{array} \\right]$\n"
      ],
      "text/plain": [
       "4-element Vector{Sym}:\n",
       "                                         di - h_{i}\n",
       "              ai*Δ^3 + bi*Δ^2 + ci*Δ + di - h_{i+1}\n",
       "                     ci - (h_{i+1} - h_{i-1})/(2*Δ)\n",
       " 3*ai*Δ^2 + 2*bi*Δ + ci - 3*(h_{i+1} - h_{i})/(2*Δ)"
      ]
     },
     "metadata": {},
     "output_type": "display_data"
    },
    {
     "data": {
      "text/latex": [
       "$\\begin{equation*}- \\frac{δ^{3}}{2} + δ^{2} - \\frac{δ}{2}\\end{equation*}$\n"
      ],
      "text/plain": [
       "   3         \n",
       "  δ     2   δ\n",
       "- ── + δ  - ─\n",
       "  2         2"
      ]
     },
     "metadata": {},
     "output_type": "display_data"
    },
    {
     "data": {
      "text/latex": [
       "$\\begin{equation*}\\frac{δ^{3}}{2} - \\frac{3 δ^{2}}{2} + 1\\end{equation*}$\n"
      ],
      "text/plain": [
       " 3      2    \n",
       "δ    3⋅δ     \n",
       "── - ──── + 1\n",
       "2     2      "
      ]
     },
     "metadata": {},
     "output_type": "display_data"
    },
    {
     "data": {
      "text/latex": [
       "$\\begin{equation*}\\frac{δ^{2}}{2} + \\frac{δ}{2}\\end{equation*}$\n"
      ],
      "text/plain": [
       " 2    \n",
       "δ    δ\n",
       "── + ─\n",
       "2    2"
      ]
     },
     "metadata": {},
     "output_type": "display_data"
    },
    {
     "data": {
      "text/latex": [
       "$\\begin{equation*}0\\end{equation*}$\n"
      ],
      "text/plain": [
       "0"
      ]
     },
     "metadata": {},
     "output_type": "display_data"
    }
   ],
   "metadata": {}
  }
 ],
 "metadata": {
  "orig_nbformat": 4,
  "language_info": {
   "name": "julia",
   "version": "1.6.3",
   "mimetype": "application/julia",
   "file_extension": ".jl"
  },
  "kernelspec": {
   "display_name": "Julia 1.6.3",
   "language": "julia",
   "name": "julia-1.6"
  }
 },
 "nbformat": 4,
 "nbformat_minor": 2
}