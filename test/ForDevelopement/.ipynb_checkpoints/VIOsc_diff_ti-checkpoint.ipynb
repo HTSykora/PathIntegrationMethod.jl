{
 "cells": [
  {
   "cell_type": "code",
   "execution_count": 22,
   "metadata": {
    "ExecuteTime": {
     "end_time": "2022-08-09T22:09:50.815Z",
     "start_time": "2022-08-09T21:09:50.464Z"
    }
   },
   "outputs": [
    {
     "data": {
      "text/plain": [
       "(\\eta_x, \\eta_v, r, v_i, t_i)"
      ]
     },
     "execution_count": 22,
     "metadata": {},
     "output_type": "execute_result"
    }
   ],
   "source": [
    "using SymPy\n",
    "\n",
    "@vars x0 v0 t0 x1 v1 t1\n",
    "xi, vi, ti = symbols(\"x_i, v_i, t_i\");\n",
    "ηx, ηv, r, vif, tif = SymFunction.((\"\\\\eta_x\", \"\\\\eta_v\", \"r\", \"v_i\", \"t_i\"))"
   ]
  },
  {
   "cell_type": "code",
   "execution_count": 16,
   "metadata": {
    "ExecuteTime": {
     "end_time": "2022-08-09T22:08:03.324Z",
     "start_time": "2022-08-09T21:08:03.290Z"
    }
   },
   "outputs": [
    {
     "data": {
      "text/latex": [
       "$- \\left(- \\eta_{v}{\\left(x_{0},v_{0},t_{0},t_{i} \\right)} \\frac{\\partial}{\\partial t_{i}} \\eta_{v}{\\left(x_{0},v_{0},t_{0},t_{i} \\right)} \\frac{\\partial}{\\partial \\eta_{v}{\\left(x_{0},v_{0},t_{0},t_{i} \\right)}} r{\\left(\\eta_{v}{\\left(x_{0},v_{0},t_{0},t_{i} \\right)} \\right)} - r{\\left(\\eta_{v}{\\left(x_{0},v_{0},t_{0},t_{i} \\right)} \\right)} \\frac{\\partial}{\\partial t_{i}} \\eta_{v}{\\left(x_{0},v_{0},t_{0},t_{i} \\right)}\\right) \\left. \\frac{\\partial}{\\partial \\xi_{2}} \\eta_{x}{\\left(\\eta_{x}{\\left(x_{0},v_{0},t_{0},t_{i} \\right)},\\xi_{2},t_{i},t_{1} \\right)} \\right|_{\\substack{ \\xi_{2}=- \\eta_{v}{\\left(x_{0},v_{0},t_{0},t_{i} \\right)} r{\\left(\\eta_{v}{\\left(x_{0},v_{0},t_{0},t_{i} \\right)} \\right)} }} - \\frac{\\partial}{\\partial t_{i}} \\eta_{x}{\\left(x_{0},v_{0},t_{0},t_{i} \\right)} \\frac{\\partial}{\\partial \\eta_{x}{\\left(x_{0},v_{0},t_{0},t_{i} \\right)}} \\eta_{x}{\\left(\\eta_{x}{\\left(x_{0},v_{0},t_{0},t_{i} \\right)},- \\eta_{v}{\\left(x_{0},v_{0},t_{0},t_{i} \\right)} r{\\left(\\eta_{v}{\\left(x_{0},v_{0},t_{0},t_{i} \\right)} \\right)},t_{i},t_{1} \\right)} - \\left. \\frac{\\partial}{\\partial \\xi_{3}} \\eta_{x}{\\left(\\eta_{x}{\\left(x_{0},v_{0},t_{0},t_{i} \\right)},- \\eta_{v}{\\left(x_{0},v_{0},t_{0},t_{i} \\right)} r{\\left(\\eta_{v}{\\left(x_{0},v_{0},t_{0},t_{i} \\right)} \\right)},\\xi_{3},t_{1} \\right)} \\right|_{\\substack{ \\xi_{3}=t_{i} }}$"
      ],
      "text/plain": [
       "  ⎛                         ∂                                   ∂             \n",
       "- ⎜- \\etaᵥ(x₀, v₀, t₀, tᵢ)⋅───(\\etaᵥ(x₀, v₀, t₀, tᵢ))⋅──────────────────────(r\n",
       "  ⎝                        ∂tᵢ                        ∂\\etaᵥ(x₀, v₀, t₀, tᵢ)  \n",
       "\n",
       "                                                     ∂                        \n",
       "(\\etaᵥ(x₀, v₀, t₀, tᵢ))) - r(\\etaᵥ(x₀, v₀, t₀, tᵢ))⋅───(\\etaᵥ(x₀, v₀, t₀, tᵢ))\n",
       "                                                    ∂tᵢ                       \n",
       "\n",
       "⎞ ⎛ ∂                                           ⎞│                            \n",
       "⎟⋅⎜───(\\etaₓ(\\etaₓ(x₀, v₀, t₀, tᵢ), ξ₂, tᵢ, t₁))⎟│                            \n",
       "⎠ ⎝∂ξ₂                                          ⎠│ξ₂=-\\etaᵥ(x₀, v₀, t₀, tᵢ)⋅r(\n",
       "\n",
       "                          ∂                                   ∂               \n",
       "                       - ───(\\etaₓ(x₀, v₀, t₀, tᵢ))⋅──────────────────────(\\et\n",
       "\\etaᵥ(x₀, v₀, t₀, tᵢ))   ∂tᵢ                        ∂\\etaₓ(x₀, v₀, t₀, tᵢ)    \n",
       "\n",
       "                                                                              \n",
       "aₓ(\\etaₓ(x₀, v₀, t₀, tᵢ), -\\etaᵥ(x₀, v₀, t₀, tᵢ)⋅r(\\etaᵥ(x₀, v₀, t₀, tᵢ)), tᵢ,\n",
       "                                                                              \n",
       "\n",
       "        ⎛ ∂                                                                   \n",
       " t₁)) - ⎜───(\\etaₓ(\\etaₓ(x₀, v₀, t₀, tᵢ), -\\etaᵥ(x₀, v₀, t₀, tᵢ)⋅r(\\etaᵥ(x₀, v\n",
       "        ⎝∂ξ₃                                                                  \n",
       "\n",
       "                     ⎞│     \n",
       "₀, t₀, tᵢ)), ξ₃, t₁))⎟│     \n",
       "                     ⎠│ξ₃=tᵢ"
      ]
     },
     "execution_count": 16,
     "metadata": {},
     "output_type": "execute_result"
    }
   ],
   "source": [
    "(x1-ηx(ηx(x0,v0,t0,ti), -r(ηv(x0,v0,t0,ti))*ηv(x0,v0,t0,ti), ti, t1)).diff(ti)"
   ]
  },
  {
   "cell_type": "code",
   "execution_count": 32,
   "metadata": {
    "ExecuteTime": {
     "end_time": "2022-08-09T22:18:30.982Z",
     "start_time": "2022-08-09T21:18:30.790Z"
    }
   },
   "outputs": [
    {
     "data": {
      "text/plain": [
       "1-element Vector{Tuple{Sym, Sym}}:\n",
       " (-Subs(Derivative(\\eta_x(_xi_1, v0, t0, t_i(x0)), _xi_1), _xi_1, x0)/Derivative(\\eta_x(x0, v0, t0, t_i(x0)), t_i(x0)), (-Subs(Derivative(\\eta_v(_xi_1, v0, t0, x0), _xi_1), _xi_1, x0) - Subs(Derivative(\\eta_v(x0, v0, t0, _xi_4), _xi_4), _xi_4, x0))*Derivative(\\eta_x(x0, v0, t0, t_i(x0)), t_i(x0))/Subs(Derivative(\\eta_x(_xi_1, v0, t0, t_i(x0)), _xi_1), _xi_1, x0))"
      ]
     },
     "execution_count": 32,
     "metadata": {},
     "output_type": "execute_result"
    }
   ],
   "source": [
    "eq = [xi - ηx(x0,v0,t0,tif(x0)),\n",
    "vif(tif(x0)) - ηv(x0,v0,t0,ti(x0))].diff(x0)\n",
    "solu = solve(eq,(tif(x0).diff(x0), vif(tif(x0)).diff(tif(x0))))"
   ]
  },
  {
   "cell_type": "code",
   "execution_count": 33,
   "metadata": {
    "ExecuteTime": {
     "end_time": "2022-08-09T22:18:34.930Z",
     "start_time": "2022-08-09T21:18:34.883Z"
    }
   },
   "outputs": [
    {
     "data": {
      "text/latex": [
       "$\\left[ \\begin{array}{r}- \\frac{\\partial}{\\partial \\operatorname{t_{i}}{\\left(x_{0} \\right)}} \\eta_{x}{\\left(x_{0},v_{0},t_{0},\\operatorname{t_{i}}{\\left(x_{0} \\right)} \\right)} \\frac{d}{d x_{0}} \\operatorname{t_{i}}{\\left(x_{0} \\right)} - \\left. \\frac{\\partial}{\\partial \\xi_{1}} \\eta_{x}{\\left(\\xi_{1},v_{0},t_{0},\\operatorname{t_{i}}{\\left(x_{0} \\right)} \\right)} \\right|_{\\substack{ \\xi_{1}=x_{0} }}\\\\\\frac{d}{d x_{0}} \\operatorname{t_{i}}{\\left(x_{0} \\right)} \\frac{d}{d \\operatorname{t_{i}}{\\left(x_{0} \\right)}} \\operatorname{v_{i}}{\\left(\\operatorname{t_{i}}{\\left(x_{0} \\right)} \\right)} - \\left. \\frac{\\partial}{\\partial \\xi_{1}} \\eta_{v}{\\left(\\xi_{1},v_{0},t_{0},x_{0} \\right)} \\right|_{\\substack{ \\xi_{1}=x_{0} }} - \\left. \\frac{\\partial}{\\partial \\xi_{4}} \\eta_{v}{\\left(x_{0},v_{0},t_{0},\\xi_{4} \\right)} \\right|_{\\substack{ \\xi_{4}=x_{0} }}\\end{array}\\right]$\n"
      ],
      "text/plain": [
       "2×1 Matrix{Sym}:\n",
       "                                            -Derivative(\\eta_x(x0, v0, t0, t_i(x0)), t_i(x0))*Derivative(t_i(x0), x0) - Subs(Derivative(\\eta_x(_xi_1, v0, t0, t_i(x0)), _xi_1), _xi_1, x0)\n",
       " Derivative(t_i(x0), x0)*Derivative(v_i(t_i(x0)), t_i(x0)) - Subs(Derivative(\\eta_v(_xi_1, v0, t0, x0), _xi_1), _xi_1, x0) - Subs(Derivative(\\eta_v(x0, v0, t0, _xi_4), _xi_4), _xi_4, x0)"
      ]
     },
     "execution_count": 33,
     "metadata": {},
     "output_type": "execute_result"
    }
   ],
   "source": [
    "eq"
   ]
  },
  {
   "cell_type": "code",
   "execution_count": 31,
   "metadata": {
    "ExecuteTime": {
     "end_time": "2022-08-09T22:17:40.341Z",
     "start_time": "2022-08-09T21:17:40.323Z"
    }
   },
   "outputs": [
    {
     "data": {
      "text/latex": [
       "$- \\frac{\\left. \\frac{\\partial}{\\partial \\xi_{1}} \\eta_{x}{\\left(\\xi_{1},v_{0},t_{0},\\operatorname{t_{i}}{\\left(x_{0} \\right)} \\right)} \\right|_{\\substack{ \\xi_{1}=x_{0} }}}{\\frac{\\partial}{\\partial \\operatorname{t_{i}}{\\left(x_{0} \\right)}} \\eta_{x}{\\left(x_{0},v_{0},t_{0},\\operatorname{t_{i}}{\\left(x_{0} \\right)} \\right)}}$"
      ],
      "text/plain": [
       " ⎛ ∂                            ⎞│      \n",
       "-⎜───(\\etaₓ(ξ₁, v₀, t₀, tᵢ(x₀)))⎟│      \n",
       " ⎝∂ξ₁                           ⎠│ξ₁=x₀ \n",
       "────────────────────────────────────────\n",
       "      ∂                                 \n",
       "   ───────(\\etaₓ(x₀, v₀, t₀, tᵢ(x₀)))   \n",
       "   ∂tᵢ(x₀)                              "
      ]
     },
     "execution_count": 31,
     "metadata": {},
     "output_type": "execute_result"
    }
   ],
   "source": [
    "solu[1][1]"
   ]
  }
 ],
 "metadata": {
  "kernelspec": {
   "display_name": "Julia 1.8.0",
   "language": "julia",
   "name": "julia-1.8"
  },
  "language_info": {
   "file_extension": ".jl",
   "mimetype": "application/julia",
   "name": "julia",
   "version": "1.8.0"
  },
  "toc": {
   "base_numbering": 1,
   "nav_menu": {},
   "number_sections": true,
   "sideBar": true,
   "skip_h1_title": false,
   "title_cell": "Table of Contents",
   "title_sidebar": "Contents",
   "toc_cell": false,
   "toc_position": {},
   "toc_section_display": true,
   "toc_window_display": false
  },
  "vscode": {
   "interpreter": {
    "hash": "31f2aee4e71d21fbe5cf8b01ff0e069b9275f58929596ceb00d14d90e3e16cd6"
   }
  }
 },
 "nbformat": 4,
 "nbformat_minor": 2
}
