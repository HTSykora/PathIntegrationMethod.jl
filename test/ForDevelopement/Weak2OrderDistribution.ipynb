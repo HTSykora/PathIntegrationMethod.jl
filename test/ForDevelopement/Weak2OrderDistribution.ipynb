{
 "cells": [
  {
   "cell_type": "code",
   "execution_count": 33,
   "metadata": {},
   "outputs": [
    {
     "data": {
      "text/plain": [
       "(t, x, a, b, σ, Δt, ΔW, ΔZ)"
      ]
     },
     "execution_count": 33,
     "metadata": {},
     "output_type": "execute_result"
    }
   ],
   "source": [
    "using SymPy\n",
    "\n",
    "@syms t x a() b() σ Δt ΔW ΔZ "
   ]
  },
  {
   "cell_type": "code",
   "execution_count": 40,
   "metadata": {},
   "outputs": [
    {
     "data": {
      "text/latex": [
       "$\\begin{equation*}\\frac{\\partial^{2}}{\\partial x^{2}} b{\\left(t,x \\right)}\\end{equation*}$\n"
      ],
      "text/plain": [
       "  2         \n",
       " ∂          \n",
       "───(b(t, x))\n",
       "  2         \n",
       "∂x          "
      ]
     },
     "execution_count": 40,
     "metadata": {},
     "output_type": "execute_result"
    }
   ],
   "source": [
    "a0 = a(t,x)\n",
    "b0 = b(t,x)\n",
    "a1 = a(t,x).diff(x)\n",
    "b1 = b(t,x).diff(x,2)\n",
    "a2 = a(t,x).diff(x,2)\n",
    "b2 = b(t,x).diff(x,2)"
   ]
  },
  {
   "cell_type": "code",
   "execution_count": 58,
   "metadata": {},
   "outputs": [
    {
     "data": {
      "text/latex": [
       "$\\begin{equation*}x + \\frac{ΔW^{2} b{\\left(t,x \\right)} \\frac{\\partial^{2}}{\\partial x^{2}} b{\\left(t,x \\right)}}{2} + ΔW Δt a{\\left(t,x \\right)} \\frac{\\partial^{2}}{\\partial x^{2}} b{\\left(t,x \\right)} + \\frac{ΔW Δt b^{2}{\\left(t,x \\right)} \\frac{\\partial^{2}}{\\partial x^{2}} b{\\left(t,x \\right)}}{2} + ΔW b{\\left(t,x \\right)} - ΔZ a{\\left(t,x \\right)} \\frac{\\partial^{2}}{\\partial x^{2}} b{\\left(t,x \\right)} - \\frac{ΔZ b^{2}{\\left(t,x \\right)} \\frac{\\partial^{2}}{\\partial x^{2}} b{\\left(t,x \\right)}}{2} + ΔZ b{\\left(t,x \\right)} \\frac{\\partial}{\\partial x} a{\\left(t,x \\right)} + \\frac{Δt^{2} a{\\left(t,x \\right)} \\frac{\\partial}{\\partial x} a{\\left(t,x \\right)}}{2} + \\frac{Δt^{2} b^{2}{\\left(t,x \\right)} \\frac{\\partial^{2}}{\\partial x^{2}} a{\\left(t,x \\right)}}{4} + Δt a{\\left(t,x \\right)} - \\frac{Δt b{\\left(t,x \\right)} \\frac{\\partial^{2}}{\\partial x^{2}} b{\\left(t,x \\right)}}{2}\\end{equation*}$\n"
      ],
      "text/plain": [
       "                  2                                                          2\n",
       "      2          ∂                                                 2        ∂ \n",
       "    ΔW ⋅b(t, x)⋅───(b(t, x))                                ΔW⋅Δt⋅b (t, x)⋅───\n",
       "                  2                            2                             2\n",
       "                ∂x                            ∂                            ∂x \n",
       "x + ──────────────────────── + ΔW⋅Δt⋅a(t, x)⋅───(b(t, x)) + ──────────────────\n",
       "               2                               2                         2    \n",
       "                                             ∂x                               \n",
       "\n",
       "                                                                 2            \n",
       "                                                       2        ∂             \n",
       "(b(t, x))                                          ΔZ⋅b (t, x)⋅───(b(t, x))   \n",
       "                                      2                          2            \n",
       "                                     ∂                         ∂x             \n",
       "───────── + ΔW⋅b(t, x) - ΔZ⋅a(t, x)⋅───(b(t, x)) - ──────────────────────── + \n",
       "                                      2                       2               \n",
       "                                    ∂x                                        \n",
       "\n",
       "                                                                  2           \n",
       "                                                     2  2        ∂            \n",
       "                           2         ∂             Δt ⋅b (t, x)⋅───(a(t, x))  \n",
       "                         Δt ⋅a(t, x)⋅──(a(t, x))                  2           \n",
       "           ∂                         ∂x                         ∂x            \n",
       "ΔZ⋅b(t, x)⋅──(a(t, x)) + ─────────────────────── + ───────────────────────── +\n",
       "           ∂x                       2                          4              \n",
       "                                                                              \n",
       "\n",
       "                           2         \n",
       "                          ∂          \n",
       "              Δt⋅b(t, x)⋅───(b(t, x))\n",
       "                           2         \n",
       "                         ∂x          \n",
       " Δt⋅a(t, x) - ───────────────────────\n",
       "                         2           \n",
       "                                     "
      ]
     },
     "execution_count": 58,
     "metadata": {},
     "output_type": "execute_result"
    }
   ],
   "source": [
    "step = x + a0*Δt + b0*ΔW + 1//2*b0*b1*(ΔW^2 - Δt) + \n",
    "    a1*b0*ΔZ + 1//2 * (a0*a1 + 1//2 * a2 * b0^2) * Δt^2 + (a0*b1 + 1//2 * b2 * b0^2) * (ΔW * Δt - ΔZ)\n",
    "step = step.expand()"
   ]
  },
  {
   "cell_type": "code",
   "execution_count": 60,
   "metadata": {},
   "outputs": [
    {
     "data": {
      "text/latex": [
       "$\\begin{equation*}Δt a{\\left(t,x \\right)} \\frac{\\partial^{2}}{\\partial x^{2}} b{\\left(t,x \\right)} + \\frac{Δt b^{2}{\\left(t,x \\right)} \\frac{\\partial^{2}}{\\partial x^{2}} b{\\left(t,x \\right)}}{2} + b{\\left(t,x \\right)}\\end{equation*}$\n"
      ],
      "text/plain": [
       "                                        2                   \n",
       "                              2        ∂                    \n",
       "                          Δt⋅b (t, x)⋅───(b(t, x))          \n",
       "             2                          2                   \n",
       "            ∂                         ∂x                    \n",
       "Δt⋅a(t, x)⋅───(b(t, x)) + ──────────────────────── + b(t, x)\n",
       "             2                       2                      \n",
       "           ∂x                                               "
      ]
     },
     "execution_count": 60,
     "metadata": {},
     "output_type": "execute_result"
    }
   ],
   "source": [
    "cΔt  = step.coeff(Δt)\n",
    "cΔW  = step.coeff(ΔW)\n",
    "cΔW2 = step.coeff(ΔW,2)\n",
    "cΔZ  = step.coeff(ΔZ)"
   ]
  },
  {
   "cell_type": "code",
   "execution_count": 79,
   "metadata": {},
   "outputs": [
    {
     "data": {
      "text/latex": [
       "$\\begin{equation*}ΔW \\left(Δt a{\\left(t,x \\right)} \\frac{\\partial^{2}}{\\partial x^{2}} b{\\left(t,x \\right)} + \\frac{Δt b^{2}{\\left(t,x \\right)} \\frac{\\partial^{2}}{\\partial x^{2}} b{\\left(t,x \\right)}}{2} + b{\\left(t,x \\right)}\\right)\\end{equation*}$\n"
      ],
      "text/plain": [
       "   ⎛                                        2                   ⎞\n",
       "   ⎜                              2        ∂                    ⎟\n",
       "   ⎜                          Δt⋅b (t, x)⋅───(b(t, x))          ⎟\n",
       "   ⎜             2                          2                   ⎟\n",
       "   ⎜            ∂                         ∂x                    ⎟\n",
       "ΔW⋅⎜Δt⋅a(t, x)⋅───(b(t, x)) + ──────────────────────── + b(t, x)⎟\n",
       "   ⎜             2                       2                      ⎟\n",
       "   ⎝           ∂x                                               ⎠"
      ]
     },
     "metadata": {},
     "output_type": "display_data"
    },
    {
     "data": {
      "text/latex": [
       "$\\begin{equation*}\\frac{ΔW^{2} b{\\left(t,x \\right)} \\frac{\\partial^{2}}{\\partial x^{2}} b{\\left(t,x \\right)}}{2}\\end{equation*}$\n"
      ],
      "text/plain": [
       "              2         \n",
       "  2          ∂          \n",
       "ΔW ⋅b(t, x)⋅───(b(t, x))\n",
       "              2         \n",
       "            ∂x          \n",
       "────────────────────────\n",
       "           2            "
      ]
     },
     "metadata": {},
     "output_type": "display_data"
    },
    {
     "data": {
      "text/latex": [
       "$\\begin{equation*}ΔZ \\left(- a{\\left(t,x \\right)} \\frac{\\partial^{2}}{\\partial x^{2}} b{\\left(t,x \\right)} - \\frac{b^{2}{\\left(t,x \\right)} \\frac{\\partial^{2}}{\\partial x^{2}} b{\\left(t,x \\right)}}{2} + b{\\left(t,x \\right)} \\frac{\\partial}{\\partial x} a{\\left(t,x \\right)}\\right)\\end{equation*}$\n"
      ],
      "text/plain": [
       "   ⎛                                    2                               ⎞\n",
       "   ⎜                          2        ∂                                ⎟\n",
       "   ⎜                         b (t, x)⋅───(b(t, x))                      ⎟\n",
       "   ⎜            2                       2                               ⎟\n",
       "   ⎜           ∂                      ∂x                     ∂          ⎟\n",
       "ΔZ⋅⎜- a(t, x)⋅───(b(t, x)) - ───────────────────── + b(t, x)⋅──(a(t, x))⎟\n",
       "   ⎜            2                      2                     ∂x         ⎟\n",
       "   ⎝          ∂x                                                        ⎠"
      ]
     },
     "metadata": {},
     "output_type": "display_data"
    },
    {
     "data": {
      "text/latex": [
       "$\\begin{equation*}Δt \\left(a{\\left(t,x \\right)} - \\frac{b{\\left(t,x \\right)} \\frac{\\partial^{2}}{\\partial x^{2}} b{\\left(t,x \\right)}}{2}\\right)\\end{equation*}$\n"
      ],
      "text/plain": [
       "   ⎛                    2         ⎞\n",
       "   ⎜                   ∂          ⎟\n",
       "   ⎜          b(t, x)⋅───(b(t, x))⎟\n",
       "   ⎜                    2         ⎟\n",
       "   ⎜                  ∂x          ⎟\n",
       "Δt⋅⎜a(t, x) - ────────────────────⎟\n",
       "   ⎝                   2          ⎠"
      ]
     },
     "metadata": {},
     "output_type": "display_data"
    },
    {
     "data": {
      "text/latex": [
       "$\\begin{equation*}Δt^{2} \\left(\\frac{a{\\left(t,x \\right)} \\frac{\\partial}{\\partial x} a{\\left(t,x \\right)}}{2} + \\frac{b^{2}{\\left(t,x \\right)} \\frac{\\partial^{2}}{\\partial x^{2}} a{\\left(t,x \\right)}}{4}\\right)\\end{equation*}$\n"
      ],
      "text/plain": [
       "    ⎛                                 2         ⎞\n",
       "    ⎜                       2        ∂          ⎟\n",
       "    ⎜        ∂             b (t, x)⋅───(a(t, x))⎟\n",
       "    ⎜a(t, x)⋅──(a(t, x))              2         ⎟\n",
       "  2 ⎜        ∂x                     ∂x          ⎟\n",
       "Δt ⋅⎜─────────────────── + ─────────────────────⎟\n",
       "    ⎝         2                      4          ⎠"
      ]
     },
     "metadata": {},
     "output_type": "display_data"
    }
   ],
   "source": [
    "cΔW  = step.coeff(ΔW)\n",
    "temp = (step - cΔW*ΔW).expand()\n",
    "cΔW2  = temp.coeff(ΔW,2)\n",
    "temp = (temp - cΔW2*ΔW^2).expand()\n",
    "cΔZ  = temp.coeff(ΔZ)\n",
    "temp = (temp - cΔZ*ΔZ).expand()\n",
    "cΔt  = temp.coeff(Δt)\n",
    "temp = (temp - cΔt*Δt).expand()\n",
    "cΔt2  = temp.coeff(Δt,2)\n",
    "\n",
    "allcoeff = (cΔW, cΔW2, cΔZ, cΔt, cΔt2)\n",
    "allmults = (ΔW, ΔW^2, ΔZ, Δt, Δt^2)\n",
    "\n",
    "for (i,c) in enumerate(allcoeff)\n",
    "    c*allmults[i] |> display\n",
    "end"
   ]
  },
  {
   "cell_type": "code",
   "execution_count": 80,
   "metadata": {},
   "outputs": [
    {
     "data": {
      "text/latex": [
       "$\\begin{equation*}x\\end{equation*}$\n"
      ],
      "text/plain": [
       "x"
      ]
     },
     "execution_count": 80,
     "metadata": {},
     "output_type": "execute_result"
    }
   ],
   "source": [
    "(step - sum(c*allmults[i] for (i,c) in enumerate(allcoeff))).expand()"
   ]
  },
  {
   "cell_type": "code",
   "execution_count": 83,
   "metadata": {},
   "outputs": [
    {
     "data": {
      "text/latex": [
       "$\\begin{equation*}ΔW σ\\end{equation*}$\n"
      ],
      "text/plain": [
       "ΔW⋅σ"
      ]
     },
     "metadata": {},
     "output_type": "display_data"
    },
    {
     "data": {
      "text/latex": [
       "$\\begin{equation*}0\\end{equation*}$\n"
      ],
      "text/plain": [
       "0"
      ]
     },
     "metadata": {},
     "output_type": "display_data"
    },
    {
     "data": {
      "text/latex": [
       "$\\begin{equation*}ΔZ σ \\frac{\\partial}{\\partial x} a{\\left(t,x \\right)}\\end{equation*}$\n"
      ],
      "text/plain": [
       "     ∂          \n",
       "ΔZ⋅σ⋅──(a(t, x))\n",
       "     ∂x         "
      ]
     },
     "metadata": {},
     "output_type": "display_data"
    },
    {
     "data": {
      "text/latex": [
       "$\\begin{equation*}Δt a{\\left(t,x \\right)}\\end{equation*}$\n"
      ],
      "text/plain": [
       "Δt⋅a(t, x)"
      ]
     },
     "metadata": {},
     "output_type": "display_data"
    },
    {
     "data": {
      "text/latex": [
       "$\\begin{equation*}Δt^{2} \\left(\\frac{σ^{2} \\frac{\\partial^{2}}{\\partial x^{2}} a{\\left(t,x \\right)}}{4} + \\frac{a{\\left(t,x \\right)} \\frac{\\partial}{\\partial x} a{\\left(t,x \\right)}}{2}\\right)\\end{equation*}$\n"
      ],
      "text/plain": [
       "    ⎛     2                               ⎞\n",
       "    ⎜ 2  ∂                                ⎟\n",
       "    ⎜σ ⋅───(a(t, x))           ∂          ⎟\n",
       "    ⎜     2            a(t, x)⋅──(a(t, x))⎟\n",
       "  2 ⎜   ∂x                     ∂x         ⎟\n",
       "Δt ⋅⎜─────────────── + ───────────────────⎟\n",
       "    ⎝       4                   2         ⎠"
      ]
     },
     "metadata": {},
     "output_type": "display_data"
    }
   ],
   "source": [
    "for (i,c) in enumerate(allcoeff)\n",
    "    allmults[i]*c.replace(b(t,x),σ).doit() |> display\n",
    "end"
   ]
  },
  {
   "cell_type": "markdown",
   "metadata": {},
   "source": [
    "# _d_-dimensional system with single noise source"
   ]
  },
  {
   "cell_type": "code",
   "execution_count": null,
   "metadata": {},
   "outputs": [
    {
     "data": {
      "text/plain": [
       "L1 (generic function with 2 methods)"
      ]
     },
     "metadata": {},
     "output_type": "display_data"
    }
   ],
   "source": [
    "function L0(h,subrules = subrules)\n",
    "    xi = eachindex(x);\n",
    "    res = h(t,x).diff(t) + sum(f[k](t,x)*h(t,x).diff(x[k]) for k in xi) + 1//2*sum(sum(g[k](t,x)*g[l](t,x)*h(t,x).diff(x[k]).diff(x[l]) for l in xi) for k in xi)\n",
    "    if subrules isa Nothing\n",
    "        res\n",
    "    else\n",
    "        res.subs([subrules...]).doit()\n",
    "    end\n",
    "end\n",
    "function L1(h,subrules = subrules)\n",
    "    xi = eachindex(x);\n",
    "    res = sum(g[k](t,x)*h(t,x).diff(x[k]) for k in xi)\n",
    "    if subrules isa Nothing\n",
    "        res\n",
    "    else\n",
    "        res.subs([subrules...]).doit()\n",
    "    end\n",
    "end"
   ]
  },
  {
   "cell_type": "code",
   "execution_count": 43,
   "metadata": {},
   "outputs": [],
   "source": [
    "using SymPy\n",
    "d = 2\n",
    "k = 2\n",
    "@syms t σ Δt ΔW ΔZ\n",
    "x = [Sym(\"x_{$i}\") for i in 1:d];\n",
    "f = [SymFunction(\"f_{$i}\") for i in 1:d];\n",
    "g = [SymFunction(\"g_{$i}\") for i in 1:d];\n",
    "subrules = (((SymFunction(\"g_{$i}\")(t,x),0) for i in 1:k-1)...,((SymFunction(\"g_{$i}\")(t,x),Sym(\"\\\\sigma_{$i}\")) for i in k:d)...);\n",
    "# g = ((0 for _ in 1:k-1)...,(SymFunction(\"g_{$i}\") for i in k:d)...)"
   ]
  },
  {
   "cell_type": "code",
   "execution_count": 44,
   "metadata": {},
   "outputs": [
    {
     "data": {
      "text/latex": [
       "$\\begin{equation*}\\sigma_{2} ΔZ \\frac{\\partial}{\\partial x_{2}} \\operatorname{f_{1}}{\\left(t,x_{1},x_{2} \\right)} + x_{1} + Δt^{2} \\left(\\frac{\\sigma_{2}^{2} \\frac{\\partial^{2}}{\\partial x_{2}^{2}} \\operatorname{f_{1}}{\\left(t,x_{1},x_{2} \\right)}}{4} + \\frac{\\operatorname{f_{1}}{\\left(t,x_{1},x_{2} \\right)} \\frac{\\partial}{\\partial x_{1}} \\operatorname{f_{1}}{\\left(t,x_{1},x_{2} \\right)}}{2} + \\frac{\\operatorname{f_{2}}{\\left(t,x_{1},x_{2} \\right)} \\frac{\\partial}{\\partial x_{2}} \\operatorname{f_{1}}{\\left(t,x_{1},x_{2} \\right)}}{2} + \\frac{\\frac{\\partial}{\\partial t} \\operatorname{f_{1}}{\\left(t,x_{1},x_{2} \\right)}}{2}\\right) + Δt \\operatorname{f_{1}}{\\left(t,x_{1},x_{2} \\right)}\\end{equation*}$\n"
      ],
      "text/plain": [
       "                                                           ⎛                2 \n",
       "                                                           ⎜          2    ∂  \n",
       "                                                           ⎜\\sigma_{2} ⋅──────\n",
       "                                                           ⎜                  \n",
       "                ∂                                        2 ⎜            ∂x_{2}\n",
       "\\sigma_{2}⋅ΔZ⋅──────(f_{1}(t, x_{1}, x_{2})) + x_{1} + Δt ⋅⎜──────────────────\n",
       "              ∂x_{2}                                       ⎝                  \n",
       "\n",
       "                                                                              \n",
       "                                                                              \n",
       "─(f_{1}(t, x_{1}, x_{2}))                            ∂                        \n",
       "2                           f_{1}(t, x_{1}, x_{2})⋅──────(f_{1}(t, x_{1}, x_{2\n",
       "                                                   ∂x_{1}                     \n",
       "───────────────────────── + ──────────────────────────────────────────────────\n",
       "   4                                                  2                       \n",
       "\n",
       "                                                                              \n",
       "                                                                              \n",
       "                               ∂                              ∂               \n",
       "}))   f_{2}(t, x_{1}, x_{2})⋅──────(f_{1}(t, x_{1}, x_{2}))   ──(f_{1}(t, x_{1\n",
       "                             ∂x_{2}                           ∂t              \n",
       "─── + ───────────────────────────────────────────────────── + ────────────────\n",
       "                                2                                         2   \n",
       "\n",
       "          ⎞                            \n",
       "          ⎟                            \n",
       "          ⎟                            \n",
       "}, x_{2}))⎟                            \n",
       "          ⎟                            \n",
       "──────────⎟ + Δt⋅f_{1}(t, x_{1}, x_{2})\n",
       "          ⎠                            "
      ]
     },
     "metadata": {},
     "output_type": "display_data"
    },
    {
     "data": {
      "text/latex": [
       "$\\begin{equation*}\\sigma_{2} ΔW + \\sigma_{2} ΔZ \\frac{\\partial}{\\partial x_{2}} \\operatorname{f_{2}}{\\left(t,x_{1},x_{2} \\right)} + x_{2} + Δt^{2} \\left(\\frac{\\sigma_{2}^{2} \\frac{\\partial^{2}}{\\partial x_{2}^{2}} \\operatorname{f_{2}}{\\left(t,x_{1},x_{2} \\right)}}{4} + \\frac{\\operatorname{f_{1}}{\\left(t,x_{1},x_{2} \\right)} \\frac{\\partial}{\\partial x_{1}} \\operatorname{f_{2}}{\\left(t,x_{1},x_{2} \\right)}}{2} + \\frac{\\operatorname{f_{2}}{\\left(t,x_{1},x_{2} \\right)} \\frac{\\partial}{\\partial x_{2}} \\operatorname{f_{2}}{\\left(t,x_{1},x_{2} \\right)}}{2} + \\frac{\\frac{\\partial}{\\partial t} \\operatorname{f_{2}}{\\left(t,x_{1},x_{2} \\right)}}{2}\\right) + Δt \\operatorname{f_{2}}{\\left(t,x_{1},x_{2} \\right)}\\end{equation*}$\n"
      ],
      "text/plain": [
       "                                                                           ⎛  \n",
       "                                                                           ⎜  \n",
       "                                                                           ⎜\\s\n",
       "                                                                           ⎜  \n",
       "                                ∂                                        2 ⎜  \n",
       "\\sigma_{2}⋅ΔW + \\sigma_{2}⋅ΔZ⋅──────(f_{2}(t, x_{1}, x_{2})) + x_{2} + Δt ⋅⎜──\n",
       "                              ∂x_{2}                                       ⎝  \n",
       "\n",
       "              2                                                               \n",
       "        2    ∂                                                                \n",
       "igma_{2} ⋅───────(f_{2}(t, x_{1}, x_{2}))                            ∂        \n",
       "                2                           f_{1}(t, x_{1}, x_{2})⋅──────(f_{2\n",
       "          ∂x_{2}                                                   ∂x_{1}     \n",
       "───────────────────────────────────────── + ──────────────────────────────────\n",
       "                   4                                                  2       \n",
       "\n",
       "                                                                              \n",
       "                                                                              \n",
       "                                               ∂                              \n",
       "}(t, x_{1}, x_{2}))   f_{2}(t, x_{1}, x_{2})⋅──────(f_{2}(t, x_{1}, x_{2}))   \n",
       "                                             ∂x_{2}                           \n",
       "─────────────────── + ───────────────────────────────────────────────────── + \n",
       "                                                2                             \n",
       "\n",
       "                          ⎞                            \n",
       "                          ⎟                            \n",
       "∂                         ⎟                            \n",
       "──(f_{2}(t, x_{1}, x_{2}))⎟                            \n",
       "∂t                        ⎟                            \n",
       "──────────────────────────⎟ + Δt⋅f_{2}(t, x_{1}, x_{2})\n",
       "            2             ⎠                            "
      ]
     },
     "metadata": {},
     "output_type": "display_data"
    }
   ],
   "source": [
    "for i in 1:d\n",
    "    mil = x[i] + f[i](t,x)*Δt + g[i](t,x)*ΔW + 1//2*L1(g[i],nothing)*(ΔW^2 - Δt);\n",
    "    corr0 = 1//2*L0(f[i],nothing)*Δt^2 + L0(g[k])*(ΔW*Δt - ΔZ)\n",
    "    corr1 = L1(f[i],nothing)*ΔZ\n",
    "\n",
    "    (mil + corr0 + corr1).subs(subrules).doit() |> display\n",
    "end"
   ]
  },
  {
   "cell_type": "code",
   "execution_count": null,
   "metadata": {},
   "outputs": [
    {
     "name": "stdout",
     "output_type": "stream",
     "text": [
      "\\sigma_{2}*ΔZ*Derivative(f_{1}(t, x_{1}, x_{2}), x_{2}) + x_{1} + Δt^2*(\\sigma_{2}^2*Derivative(f_{1}(t, x_{1}, x_{2}), (x_{2}, 2))/4 + f_{1}(t, x_{1}, x_{2})*Derivative(f_{1}(t, x_{1}, x_{2}), x_{1})/2 + f_{2}(t, x_{1}, x_{2})*Derivative(f_{1}(t, x_{1}, x_{2}), x_{2})/2 + Derivative(f_{1}(t, x_{1}, x_{2}), t)/2) + Δt*f_{1}(t, x_{1}, x_{2})"
     ]
    }
   ],
   "source": [
    "i=1\n",
    "mil = x[i] + f[i](t,x)*Δt + g[i](t,x)*ΔW + 1//2*L1(g[i],nothing)*(ΔW^2 - Δt);\n",
    "corr0 = 1//2*L0(f[i],nothing)*Δt^2 + L0(g[k])*(ΔW*Δt - ΔZ)\n",
    "corr1 = L1(f[i],nothing)*ΔZ\n",
    "\n",
    "(mil + corr0 + corr1).subs(subrules).doit() |> print"
   ]
  },
  {
   "cell_type": "code",
   "execution_count": null,
   "metadata": {},
   "outputs": [],
   "source": [
    "$$\n",
    "\\begin{split}\n",
    "&x_{1} + \\Delta t f_{1} + \\sigma_{2} \\frac{\\partial}{\\partial x_{2}}f_{1} \\Delta Z + \\\\\n",
    "&\\left(\\frac{\\sigma_{2}^2}{4}\\frac{\\partial^2}{\\partial x_{2}^2}f_{1} + \\frac{1}{2}f_{1}\\frac{\\partial}{\\partial x_{1}}f_{1} + \\frac{1}{2}f_{2} \\frac{\\partial}{\\partial x_{1}}f_{1} + \\frac{1}{2}\\frac{\\partial}{\\partial t}f_{1})\\right) \\Delta t^2\n",
    "\\end{split}\n",
    "$$\n",
    "$$\n",
    "\\begin{split}\n",
    "& x_{2} + f_{2} \\Delta t + \\sigma_{2} \\Delta W + \\sigma_{2}\\frac{\\partial}{\\partial x_{2}}f_{2} \\Delta Z + \\\\\n",
    "& \\left(\\frac{\\sigma_{2}^2}{4}\\frac{\\partial^2}{\\partial x_{2}^2}f_{2} + \\frac{1}{2}f_{1}\\frac{\\partial}{\\partial x_{1}}f_{2}(t, x_{1},x_{2}) + \\frac{1}{2}f_{2} \\frac{\\partial}{\\partial x_{2}}f_{2} + \\frac{1}{2}\\frac{\\partial}{\\partial t}f_{2}\\right) \\Delta t^2\n",
    "\\end{split}\n",
    "$$"
   ]
  }
 ],
 "metadata": {
  "kernelspec": {
   "display_name": "Julia 1.6.3",
   "language": "julia",
   "name": "julia-1.6"
  },
  "language_info": {
   "file_extension": ".jl",
   "mimetype": "application/julia",
   "name": "julia",
   "version": "1.6.3"
  },
  "orig_nbformat": 4
 },
 "nbformat": 4,
 "nbformat_minor": 2
}
