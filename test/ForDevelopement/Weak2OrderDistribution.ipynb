{
 "cells": [
  {
   "cell_type": "code",
   "execution_count": 33,
   "metadata": {},
   "outputs": [
    {
     "data": {
      "text/plain": [
       "(t, x, a, b, σ, Δt, ΔW, ΔZ)"
      ]
     },
     "execution_count": 33,
     "metadata": {},
     "output_type": "execute_result"
    }
   ],
   "source": [
    "using SymPy\n",
    "\n",
    "@syms t x a() b() σ Δt ΔW ΔZ "
   ]
  },
  {
   "cell_type": "code",
   "execution_count": 40,
   "metadata": {},
   "outputs": [
    {
     "data": {
      "text/latex": [
       "$\\begin{equation*}\\frac{\\partial^{2}}{\\partial x^{2}} b{\\left(t,x \\right)}\\end{equation*}$\n"
      ],
      "text/plain": [
       "  2         \n",
       " ∂          \n",
       "───(b(t, x))\n",
       "  2         \n",
       "∂x          "
      ]
     },
     "execution_count": 40,
     "metadata": {},
     "output_type": "execute_result"
    }
   ],
   "source": [
    "a0 = a(t,x)\n",
    "b0 = b(t,x)\n",
    "a1 = a(t,x).diff(x)\n",
    "b1 = b(t,x).diff(x,2)\n",
    "a2 = a(t,x).diff(x,2)\n",
    "b2 = b(t,x).diff(x,2)"
   ]
  },
  {
   "cell_type": "code",
   "execution_count": 58,
   "metadata": {},
   "outputs": [
    {
     "data": {
      "text/latex": [
       "$\\begin{equation*}x + \\frac{ΔW^{2} b{\\left(t,x \\right)} \\frac{\\partial^{2}}{\\partial x^{2}} b{\\left(t,x \\right)}}{2} + ΔW Δt a{\\left(t,x \\right)} \\frac{\\partial^{2}}{\\partial x^{2}} b{\\left(t,x \\right)} + \\frac{ΔW Δt b^{2}{\\left(t,x \\right)} \\frac{\\partial^{2}}{\\partial x^{2}} b{\\left(t,x \\right)}}{2} + ΔW b{\\left(t,x \\right)} - ΔZ a{\\left(t,x \\right)} \\frac{\\partial^{2}}{\\partial x^{2}} b{\\left(t,x \\right)} - \\frac{ΔZ b^{2}{\\left(t,x \\right)} \\frac{\\partial^{2}}{\\partial x^{2}} b{\\left(t,x \\right)}}{2} + ΔZ b{\\left(t,x \\right)} \\frac{\\partial}{\\partial x} a{\\left(t,x \\right)} + \\frac{Δt^{2} a{\\left(t,x \\right)} \\frac{\\partial}{\\partial x} a{\\left(t,x \\right)}}{2} + \\frac{Δt^{2} b^{2}{\\left(t,x \\right)} \\frac{\\partial^{2}}{\\partial x^{2}} a{\\left(t,x \\right)}}{4} + Δt a{\\left(t,x \\right)} - \\frac{Δt b{\\left(t,x \\right)} \\frac{\\partial^{2}}{\\partial x^{2}} b{\\left(t,x \\right)}}{2}\\end{equation*}$\n"
      ],
      "text/plain": [
       "                  2                                                          2\n",
       "      2          ∂                                                 2        ∂ \n",
       "    ΔW ⋅b(t, x)⋅───(b(t, x))                                ΔW⋅Δt⋅b (t, x)⋅───\n",
       "                  2                            2                             2\n",
       "                ∂x                            ∂                            ∂x \n",
       "x + ──────────────────────── + ΔW⋅Δt⋅a(t, x)⋅───(b(t, x)) + ──────────────────\n",
       "               2                               2                         2    \n",
       "                                             ∂x                               \n",
       "\n",
       "                                                                 2            \n",
       "                                                       2        ∂             \n",
       "(b(t, x))                                          ΔZ⋅b (t, x)⋅───(b(t, x))   \n",
       "                                      2                          2            \n",
       "                                     ∂                         ∂x             \n",
       "───────── + ΔW⋅b(t, x) - ΔZ⋅a(t, x)⋅───(b(t, x)) - ──────────────────────── + \n",
       "                                      2                       2               \n",
       "                                    ∂x                                        \n",
       "\n",
       "                                                                  2           \n",
       "                                                     2  2        ∂            \n",
       "                           2         ∂             Δt ⋅b (t, x)⋅───(a(t, x))  \n",
       "                         Δt ⋅a(t, x)⋅──(a(t, x))                  2           \n",
       "           ∂                         ∂x                         ∂x            \n",
       "ΔZ⋅b(t, x)⋅──(a(t, x)) + ─────────────────────── + ───────────────────────── +\n",
       "           ∂x                       2                          4              \n",
       "                                                                              \n",
       "\n",
       "                           2         \n",
       "                          ∂          \n",
       "              Δt⋅b(t, x)⋅───(b(t, x))\n",
       "                           2         \n",
       "                         ∂x          \n",
       " Δt⋅a(t, x) - ───────────────────────\n",
       "                         2           \n",
       "                                     "
      ]
     },
     "execution_count": 58,
     "metadata": {},
     "output_type": "execute_result"
    }
   ],
   "source": [
    "step = x + a0*Δt + b0*ΔW + 1//2*b0*b1*(ΔW^2 - Δt) + \n",
    "    a1*b0*ΔZ + 1//2 * (a0*a1 + 1//2 * a2 * b0^2) * Δt^2 + (a0*b1 + 1//2 * b2 * b0^2) * (ΔW * Δt - ΔZ)\n",
    "step = step.expand()"
   ]
  },
  {
   "cell_type": "code",
   "execution_count": 60,
   "metadata": {},
   "outputs": [
    {
     "data": {
      "text/latex": [
       "$\\begin{equation*}Δt a{\\left(t,x \\right)} \\frac{\\partial^{2}}{\\partial x^{2}} b{\\left(t,x \\right)} + \\frac{Δt b^{2}{\\left(t,x \\right)} \\frac{\\partial^{2}}{\\partial x^{2}} b{\\left(t,x \\right)}}{2} + b{\\left(t,x \\right)}\\end{equation*}$\n"
      ],
      "text/plain": [
       "                                        2                   \n",
       "                              2        ∂                    \n",
       "                          Δt⋅b (t, x)⋅───(b(t, x))          \n",
       "             2                          2                   \n",
       "            ∂                         ∂x                    \n",
       "Δt⋅a(t, x)⋅───(b(t, x)) + ──────────────────────── + b(t, x)\n",
       "             2                       2                      \n",
       "           ∂x                                               "
      ]
     },
     "execution_count": 60,
     "metadata": {},
     "output_type": "execute_result"
    }
   ],
   "source": [
    "cΔt  = step.coeff(Δt)\n",
    "cΔW  = step.coeff(ΔW)\n",
    "cΔW2 = step.coeff(ΔW,2)\n",
    "cΔZ  = step.coeff(ΔZ)"
   ]
  },
  {
   "cell_type": "code",
   "execution_count": 79,
   "metadata": {},
   "outputs": [
    {
     "data": {
      "text/latex": [
       "$\\begin{equation*}ΔW \\left(Δt a{\\left(t,x \\right)} \\frac{\\partial^{2}}{\\partial x^{2}} b{\\left(t,x \\right)} + \\frac{Δt b^{2}{\\left(t,x \\right)} \\frac{\\partial^{2}}{\\partial x^{2}} b{\\left(t,x \\right)}}{2} + b{\\left(t,x \\right)}\\right)\\end{equation*}$\n"
      ],
      "text/plain": [
       "   ⎛                                        2                   ⎞\n",
       "   ⎜                              2        ∂                    ⎟\n",
       "   ⎜                          Δt⋅b (t, x)⋅───(b(t, x))          ⎟\n",
       "   ⎜             2                          2                   ⎟\n",
       "   ⎜            ∂                         ∂x                    ⎟\n",
       "ΔW⋅⎜Δt⋅a(t, x)⋅───(b(t, x)) + ──────────────────────── + b(t, x)⎟\n",
       "   ⎜             2                       2                      ⎟\n",
       "   ⎝           ∂x                                               ⎠"
      ]
     },
     "metadata": {},
     "output_type": "display_data"
    },
    {
     "data": {
      "text/latex": [
       "$\\begin{equation*}\\frac{ΔW^{2} b{\\left(t,x \\right)} \\frac{\\partial^{2}}{\\partial x^{2}} b{\\left(t,x \\right)}}{2}\\end{equation*}$\n"
      ],
      "text/plain": [
       "              2         \n",
       "  2          ∂          \n",
       "ΔW ⋅b(t, x)⋅───(b(t, x))\n",
       "              2         \n",
       "            ∂x          \n",
       "────────────────────────\n",
       "           2            "
      ]
     },
     "metadata": {},
     "output_type": "display_data"
    },
    {
     "data": {
      "text/latex": [
       "$\\begin{equation*}ΔZ \\left(- a{\\left(t,x \\right)} \\frac{\\partial^{2}}{\\partial x^{2}} b{\\left(t,x \\right)} - \\frac{b^{2}{\\left(t,x \\right)} \\frac{\\partial^{2}}{\\partial x^{2}} b{\\left(t,x \\right)}}{2} + b{\\left(t,x \\right)} \\frac{\\partial}{\\partial x} a{\\left(t,x \\right)}\\right)\\end{equation*}$\n"
      ],
      "text/plain": [
       "   ⎛                                    2                               ⎞\n",
       "   ⎜                          2        ∂                                ⎟\n",
       "   ⎜                         b (t, x)⋅───(b(t, x))                      ⎟\n",
       "   ⎜            2                       2                               ⎟\n",
       "   ⎜           ∂                      ∂x                     ∂          ⎟\n",
       "ΔZ⋅⎜- a(t, x)⋅───(b(t, x)) - ───────────────────── + b(t, x)⋅──(a(t, x))⎟\n",
       "   ⎜            2                      2                     ∂x         ⎟\n",
       "   ⎝          ∂x                                                        ⎠"
      ]
     },
     "metadata": {},
     "output_type": "display_data"
    },
    {
     "data": {
      "text/latex": [
       "$\\begin{equation*}Δt \\left(a{\\left(t,x \\right)} - \\frac{b{\\left(t,x \\right)} \\frac{\\partial^{2}}{\\partial x^{2}} b{\\left(t,x \\right)}}{2}\\right)\\end{equation*}$\n"
      ],
      "text/plain": [
       "   ⎛                    2         ⎞\n",
       "   ⎜                   ∂          ⎟\n",
       "   ⎜          b(t, x)⋅───(b(t, x))⎟\n",
       "   ⎜                    2         ⎟\n",
       "   ⎜                  ∂x          ⎟\n",
       "Δt⋅⎜a(t, x) - ────────────────────⎟\n",
       "   ⎝                   2          ⎠"
      ]
     },
     "metadata": {},
     "output_type": "display_data"
    },
    {
     "data": {
      "text/latex": [
       "$\\begin{equation*}Δt^{2} \\left(\\frac{a{\\left(t,x \\right)} \\frac{\\partial}{\\partial x} a{\\left(t,x \\right)}}{2} + \\frac{b^{2}{\\left(t,x \\right)} \\frac{\\partial^{2}}{\\partial x^{2}} a{\\left(t,x \\right)}}{4}\\right)\\end{equation*}$\n"
      ],
      "text/plain": [
       "    ⎛                                 2         ⎞\n",
       "    ⎜                       2        ∂          ⎟\n",
       "    ⎜        ∂             b (t, x)⋅───(a(t, x))⎟\n",
       "    ⎜a(t, x)⋅──(a(t, x))              2         ⎟\n",
       "  2 ⎜        ∂x                     ∂x          ⎟\n",
       "Δt ⋅⎜─────────────────── + ─────────────────────⎟\n",
       "    ⎝         2                      4          ⎠"
      ]
     },
     "metadata": {},
     "output_type": "display_data"
    }
   ],
   "source": [
    "cΔW  = step.coeff(ΔW)\n",
    "temp = (step - cΔW*ΔW).expand()\n",
    "cΔW2  = temp.coeff(ΔW,2)\n",
    "temp = (temp - cΔW2*ΔW^2).expand()\n",
    "cΔZ  = temp.coeff(ΔZ)\n",
    "temp = (temp - cΔZ*ΔZ).expand()\n",
    "cΔt  = temp.coeff(Δt)\n",
    "temp = (temp - cΔt*Δt).expand()\n",
    "cΔt2  = temp.coeff(Δt,2)\n",
    "\n",
    "allcoeff = (cΔW, cΔW2, cΔZ, cΔt, cΔt2)\n",
    "allmults = (ΔW, ΔW^2, ΔZ, Δt, Δt^2)\n",
    "\n",
    "for (i,c) in enumerate(allcoeff)\n",
    "    c*allmults[i] |> display\n",
    "end"
   ]
  },
  {
   "cell_type": "code",
   "execution_count": 80,
   "metadata": {},
   "outputs": [
    {
     "data": {
      "text/latex": [
       "$\\begin{equation*}x\\end{equation*}$\n"
      ],
      "text/plain": [
       "x"
      ]
     },
     "execution_count": 80,
     "metadata": {},
     "output_type": "execute_result"
    }
   ],
   "source": [
    "(step - sum(c*allmults[i] for (i,c) in enumerate(allcoeff))).expand()"
   ]
  },
  {
   "cell_type": "code",
   "execution_count": 83,
   "metadata": {},
   "outputs": [
    {
     "data": {
      "text/latex": [
       "$\\begin{equation*}ΔW σ\\end{equation*}$\n"
      ],
      "text/plain": [
       "ΔW⋅σ"
      ]
     },
     "metadata": {},
     "output_type": "display_data"
    },
    {
     "data": {
      "text/latex": [
       "$\\begin{equation*}0\\end{equation*}$\n"
      ],
      "text/plain": [
       "0"
      ]
     },
     "metadata": {},
     "output_type": "display_data"
    },
    {
     "data": {
      "text/latex": [
       "$\\begin{equation*}ΔZ σ \\frac{\\partial}{\\partial x} a{\\left(t,x \\right)}\\end{equation*}$\n"
      ],
      "text/plain": [
       "     ∂          \n",
       "ΔZ⋅σ⋅──(a(t, x))\n",
       "     ∂x         "
      ]
     },
     "metadata": {},
     "output_type": "display_data"
    },
    {
     "data": {
      "text/latex": [
       "$\\begin{equation*}Δt a{\\left(t,x \\right)}\\end{equation*}$\n"
      ],
      "text/plain": [
       "Δt⋅a(t, x)"
      ]
     },
     "metadata": {},
     "output_type": "display_data"
    },
    {
     "data": {
      "text/latex": [
       "$\\begin{equation*}Δt^{2} \\left(\\frac{σ^{2} \\frac{\\partial^{2}}{\\partial x^{2}} a{\\left(t,x \\right)}}{4} + \\frac{a{\\left(t,x \\right)} \\frac{\\partial}{\\partial x} a{\\left(t,x \\right)}}{2}\\right)\\end{equation*}$\n"
      ],
      "text/plain": [
       "    ⎛     2                               ⎞\n",
       "    ⎜ 2  ∂                                ⎟\n",
       "    ⎜σ ⋅───(a(t, x))           ∂          ⎟\n",
       "    ⎜     2            a(t, x)⋅──(a(t, x))⎟\n",
       "  2 ⎜   ∂x                     ∂x         ⎟\n",
       "Δt ⋅⎜─────────────── + ───────────────────⎟\n",
       "    ⎝       4                   2         ⎠"
      ]
     },
     "metadata": {},
     "output_type": "display_data"
    }
   ],
   "source": [
    "for (i,c) in enumerate(allcoeff)\n",
    "    allmults[i]*c.replace(b(t,x),σ).doit() |> display\n",
    "end"
   ]
  },
  {
   "cell_type": "markdown",
   "metadata": {},
   "source": [
    "# _d_-dimensional system"
   ]
  },
  {
   "cell_type": "markdown",
   "metadata": {},
   "source": [
    "L0 = "
   ]
  }
 ],
 "metadata": {
  "kernelspec": {
   "display_name": "Julia 1.6.3",
   "language": "julia",
   "name": "julia-1.6"
  },
  "language_info": {
   "file_extension": ".jl",
   "mimetype": "application/julia",
   "name": "julia",
   "version": "1.6.3"
  },
  "orig_nbformat": 4
 },
 "nbformat": 4,
 "nbformat_minor": 2
}
