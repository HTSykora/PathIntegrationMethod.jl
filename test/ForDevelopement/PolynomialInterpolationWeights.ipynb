{
 "cells": [
  {
   "cell_type": "markdown",
   "metadata": {},
   "source": [
    "# Cubic with discretized derivatives"
   ]
  },
  {
   "cell_type": "markdown",
   "metadata": {},
   "source": [
    "Using 4 points for the interpolation"
   ]
  },
  {
   "cell_type": "code",
   "execution_count": 6,
   "metadata": {},
   "outputs": [
    {
     "data": {
      "text/latex": [
       "$\\left[ \\begin{array}{r}c_{0}\\\\c_{1}\\\\c_{2}\\\\c_{3}\\end{array} \\right]$\n"
      ],
      "text/plain": [
       "4-element Vector{Sym}:\n",
       " c_{0}\n",
       " c_{1}\n",
       " c_{2}\n",
       " c_{3}"
      ]
     },
     "metadata": {},
     "output_type": "display_data"
    }
   ],
   "source": [
    "using SymPy\n",
    "\n",
    "@syms x Δ δ\n",
    "xs = [\n",
    "    symbols(\"x_{i-1}\"),\n",
    "    symbols(\"x_{i}\"),\n",
    "    symbols(\"x_{i+1}\"),\n",
    "    symbols(\"x_{i+2}\"),\n",
    "]\n",
    "xs = [i*Δ for i in -1:2]\n",
    "ys = [\n",
    "    symbols(\"y_{i-1}\"),\n",
    "    symbols(\"y_{i}\"),\n",
    "    symbols(\"y_{i+1}\"),\n",
    "    symbols(\"y_{i+2}\"),\n",
    "]\n",
    "cs = [symbols(\"c_{$i}\") for i in 0:3]\n"
   ]
  },
  {
   "cell_type": "markdown",
   "metadata": {},
   "source": [
    "## General case"
   ]
  },
  {
   "cell_type": "code",
   "execution_count": 7,
   "metadata": {},
   "outputs": [
    {
     "data": {
      "text/latex": [
       "$- \\frac{δ^{3}}{2} + δ^{2} - \\frac{δ}{2}$"
      ],
      "text/plain": [
       "   3         \n",
       "  δ     2   δ\n",
       "- ── + δ  - ─\n",
       "  2         2"
      ]
     },
     "metadata": {},
     "output_type": "display_data"
    },
    {
     "data": {
      "text/latex": [
       "$\\frac{3 δ^{3}}{2} - \\frac{5 δ^{2}}{2} + 1$"
      ],
      "text/plain": [
       "   3      2    \n",
       "3⋅δ    5⋅δ     \n",
       "──── - ──── + 1\n",
       " 2      2      "
      ]
     },
     "metadata": {},
     "output_type": "display_data"
    },
    {
     "data": {
      "text/latex": [
       "$- \\frac{3 δ^{3}}{2} + 2 δ^{2} + \\frac{δ}{2}$"
      ],
      "text/plain": [
       "     3           \n",
       "  3⋅δ       2   δ\n",
       "- ──── + 2⋅δ  + ─\n",
       "   2            2"
      ]
     },
     "metadata": {},
     "output_type": "display_data"
    },
    {
     "data": {
      "text/latex": [
       "$\\frac{δ^{3}}{2} - \\frac{δ^{2}}{2}$"
      ],
      "text/plain": [
       " 3    2\n",
       "δ    δ \n",
       "── - ──\n",
       "2    2 "
      ]
     },
     "metadata": {},
     "output_type": "display_data"
    }
   ],
   "source": [
    "cubic_pol = sum(symbols(\"c_{$i}\")*x^i for i in 0:3)\n",
    "eqs = [\n",
    "    cubic_pol.subs(x,xs[2] - xs[2]) - ys[2], # f(0)\n",
    "    cubic_pol.subs(x,xs[3] - xs[2]) - ys[3], # f(Δ)\n",
    "    cubic_pol.diff(x).subs(x,xs[2] - xs[2]) - (ys[3] - ys[1])/(xs[3] - xs[1]),# f'(0)\n",
    "    cubic_pol.diff(x).subs(x,xs[3] - xs[2]) - (ys[4] - ys[2])/(xs[4] - xs[2]) # f'(Δ)\n",
    "]\n",
    "eqs = expand.(eqs)\n",
    "\n",
    "sol = solve(eqs,cs)\n",
    "appr = cubic_pol.subs(sol) |> expand\n",
    "\n",
    "for y in ys\n",
    "    appr.coeff(y).subs(x/Δ,δ) |> display\n",
    "end"
   ]
  },
  {
   "cell_type": "code",
   "execution_count": 8,
   "metadata": {},
   "outputs": [
    {
     "data": {
      "text/latex": [
       "$\\left[ \\begin{array}{r}c_{0} - y_{i}\\\\c_{0} + c_{1} Δ + c_{2} Δ^{2} + c_{3} Δ^{3} - y_{i+1}\\\\c_{1} - \\frac{y_{i+1}}{2 Δ} + \\frac{y_{i-1}}{2 Δ}\\\\c_{1} + 2 c_{2} Δ + 3 c_{3} Δ^{2} - \\frac{y_{i+2}}{2 Δ} + \\frac{y_{i}}{2 Δ}\\end{array} \\right]$\n"
      ],
      "text/plain": [
       "4-element Vector{Sym}:\n",
       "                                                 c_{0} - y_{i}\n",
       "             c_{0} + c_{1}*Δ + c_{2}*Δ^2 + c_{3}*Δ^3 - y_{i+1}\n",
       "                         c_{1} - y_{i+1}/(2*Δ) + y_{i-1}/(2*Δ)\n",
       " c_{1} + 2*c_{2}*Δ + 3*c_{3}*Δ^2 - y_{i+2}/(2*Δ) + y_{i}/(2*Δ)"
      ]
     },
     "metadata": {},
     "output_type": "display_data"
    }
   ],
   "source": [
    "eqs"
   ]
  },
  {
   "cell_type": "markdown",
   "metadata": {},
   "source": [
    "## Near endpoints"
   ]
  },
  {
   "cell_type": "markdown",
   "metadata": {},
   "source": [
    "### Beginning"
   ]
  },
  {
   "cell_type": "code",
   "execution_count": 11,
   "metadata": {},
   "outputs": [
    {
     "data": {
      "text/latex": [
       "$0$"
      ],
      "text/plain": [
       "0"
      ]
     },
     "metadata": {},
     "output_type": "display_data"
    },
    {
     "data": {
      "text/latex": [
       "$\\frac{δ^{3}}{2} - \\frac{δ^{2}}{2} - δ + 1$"
      ],
      "text/plain": [
       " 3    2        \n",
       "δ    δ         \n",
       "── - ── - δ + 1\n",
       "2    2         "
      ]
     },
     "metadata": {},
     "output_type": "display_data"
    },
    {
     "data": {
      "text/latex": [
       "$- δ^{3} + δ^{2} + δ$"
      ],
      "text/plain": [
       "   3    2    \n",
       "- δ  + δ  + δ"
      ]
     },
     "metadata": {},
     "output_type": "display_data"
    },
    {
     "data": {
      "text/latex": [
       "$\\frac{δ^{3}}{2} - \\frac{δ^{2}}{2}$"
      ],
      "text/plain": [
       " 3    2\n",
       "δ    δ \n",
       "── - ──\n",
       "2    2 "
      ]
     },
     "metadata": {},
     "output_type": "display_data"
    }
   ],
   "source": [
    "##Beginning Not enforcing unknown conditions\n",
    "quad_pol = sum(symbols(\"c_{$i}\")*x^i for i in 0:2)\n",
    "eqs = [\n",
    "    cubic_pol.subs(x,xs[2] - xs[2]) - ys[2], # f(0)\n",
    "    cubic_pol.subs(x,xs[3] - xs[2]) - ys[3], # f(Δ)\n",
    "    cubic_pol.diff(x).subs(x,xs[2] - xs[2]) - (ys[3] - ys[2])/(xs[3] - xs[2]), # f'(Δ)\n",
    "    cubic_pol.diff(x).subs(x,xs[3] - xs[2]) - (ys[4] - ys[2])/(xs[4] - xs[2]) # f'(Δ)\n",
    "]\n",
    "eqs = expand.(eqs)\n",
    "\n",
    "sol = solve(eqs,cs)\n",
    "appr = cubic_pol.subs(sol) |> expand\n",
    "\n",
    "for y in ys\n",
    "    appr.coeff(y).subs(x/Δ,δ) |> display\n",
    "end"
   ]
  },
  {
   "cell_type": "markdown",
   "metadata": {},
   "source": [
    "### End"
   ]
  },
  {
   "cell_type": "code",
   "execution_count": 179,
   "metadata": {},
   "outputs": [
    {
     "data": {
      "text/latex": [
       "$\\begin{equation*}\\frac{δ^{2}}{2} - \\frac{δ}{2}\\end{equation*}$\n"
      ],
      "text/plain": [
       " 2    \n",
       "δ    δ\n",
       "── - ─\n",
       "2    2"
      ]
     },
     "metadata": {},
     "output_type": "display_data"
    },
    {
     "data": {
      "text/latex": [
       "$\\begin{equation*}1 - δ^{2}\\end{equation*}$\n"
      ],
      "text/plain": [
       "     2\n",
       "1 - δ "
      ]
     },
     "metadata": {},
     "output_type": "display_data"
    },
    {
     "data": {
      "text/latex": [
       "$\\begin{equation*}\\frac{δ^{2}}{2} + \\frac{δ}{2}\\end{equation*}$\n"
      ],
      "text/plain": [
       " 2    \n",
       "δ    δ\n",
       "── + ─\n",
       "2    2"
      ]
     },
     "metadata": {},
     "output_type": "display_data"
    },
    {
     "data": {
      "text/latex": [
       "$\\begin{equation*}0\\end{equation*}$\n"
      ],
      "text/plain": [
       "0"
      ]
     },
     "metadata": {},
     "output_type": "display_data"
    }
   ],
   "source": [
    "##End Not enforcing unknown conditions\n",
    "quad_pol = sum(symbols(\"c_{$i}\")*x^i for i in 0:2)\n",
    "\n",
    "eqs = [\n",
    "    quad_pol.subs(x,xs[2] - xs[2]) - ys[2], # f(0)\n",
    "    quad_pol.subs(x,xs[3] - xs[2]) - ys[3], # f(Δ)\n",
    "    quad_pol.diff(x).subs(x,xs[2] - xs[2]) - (ys[3] - ys[1])/((xs[3] - xs[1])),# f'(0)\n",
    "    quad_pol.diff(x).subs(x,xs[3] - xs[2]) - (ys[3] - ys[2])/(xs[3] - xs[2]) # f'(Δ)\n",
    "\n",
    "]\n",
    "eqs = expand.(eqs)\n",
    "\n",
    "sol = solve(eqs,cs)\n",
    "appr = quad_pol.subs(sol) |> expand\n",
    "\n",
    "for y in ys\n",
    "    appr.coeff(y).subs(x/Δ,δ) |> display\n",
    "end"
   ]
  },
  {
   "cell_type": "markdown",
   "metadata": {},
   "source": [
    "# Cubic with Lagrangian polynomials"
   ]
  },
  {
   "cell_type": "code",
   "execution_count": 38,
   "metadata": {},
   "outputs": [
    {
     "data": {
      "text/plain": [
       "(x, Δ, δ)"
      ]
     },
     "metadata": {},
     "output_type": "display_data"
    }
   ],
   "source": [
    "using SymPy\n",
    "\n",
    "@syms x Δ δ"
   ]
  },
  {
   "cell_type": "code",
   "execution_count": 40,
   "metadata": {},
   "outputs": [
    {
     "data": {
      "text/latex": [
       "$\\left[ \\begin{array}{r}y_{-1}\\\\y_{0}\\\\y_{1}\\\\y_{2}\\end{array} \\right]$\n"
      ],
      "text/plain": [
       "4-element Vector{Sym}:\n",
       " y_{-1}\n",
       "  y_{0}\n",
       "  y_{1}\n",
       "  y_{2}"
      ]
     },
     "metadata": {},
     "output_type": "display_data"
    }
   ],
   "source": [
    "idxs = -1:2\n",
    "xs = [i*Δ for i in idxs]\n",
    "ys = [symbols(\"y_{$i}\") for i in idxs]"
   ]
  },
  {
   "cell_type": "code",
   "execution_count": 42,
   "metadata": {},
   "outputs": [
    {
     "data": {
      "text/plain": [
       "p (generic function with 2 methods)"
      ]
     },
     "metadata": {},
     "output_type": "display_data"
    }
   ],
   "source": [
    "p(j,xs = xs) = prod((x-xs[k])/(xs[j]-xs[k]) for k in 1:length(xs) if k != j)"
   ]
  },
  {
   "cell_type": "code",
   "execution_count": 43,
   "metadata": {},
   "outputs": [
    {
     "data": {
      "text/latex": [
       "$\\begin{equation*}- \\frac{δ^{3}}{6} + \\frac{δ^{2}}{2} - \\frac{δ}{3}\\end{equation*}$\n"
      ],
      "text/plain": [
       "   3    2    \n",
       "  δ    δ    δ\n",
       "- ── + ── - ─\n",
       "  6    2    3"
      ]
     },
     "metadata": {},
     "output_type": "display_data"
    },
    {
     "data": {
      "text/latex": [
       "$\\begin{equation*}\\frac{δ^{3}}{2} - δ^{2} - \\frac{δ}{2} + 1\\end{equation*}$\n"
      ],
      "text/plain": [
       " 3             \n",
       "δ     2   δ    \n",
       "── - δ  - ─ + 1\n",
       "2         2    "
      ]
     },
     "metadata": {},
     "output_type": "display_data"
    },
    {
     "data": {
      "text/latex": [
       "$\\begin{equation*}- \\frac{δ^{3}}{2} + \\frac{δ^{2}}{2} + δ\\end{equation*}$\n"
      ],
      "text/plain": [
       "   3    2    \n",
       "  δ    δ     \n",
       "- ── + ── + δ\n",
       "  2    2     "
      ]
     },
     "metadata": {},
     "output_type": "display_data"
    },
    {
     "data": {
      "text/latex": [
       "$\\begin{equation*}\\frac{δ^{3}}{6} - \\frac{δ}{6}\\end{equation*}$\n"
      ],
      "text/plain": [
       " 3    \n",
       "δ    δ\n",
       "── - ─\n",
       "6    6"
      ]
     },
     "metadata": {},
     "output_type": "display_data"
    }
   ],
   "source": [
    "for i in 1:length(xs)\n",
    "    p(i).expand().subs(x/Δ, δ) |> display\n",
    "end"
   ]
  },
  {
   "cell_type": "markdown",
   "metadata": {},
   "source": [
    "## Connecting piecewise LP-s"
   ]
  },
  {
   "cell_type": "code",
   "execution_count": 52,
   "metadata": {},
   "outputs": [
    {
     "data": {
      "text/latex": [
       "$\\left[ \\begin{array}{r}y_{0}\\\\y_{1}\\\\y_{2}\\\\y_{3}\\end{array} \\right]$\n"
      ],
      "text/plain": [
       "4-element Vector{Sym}:\n",
       " y_{0}\n",
       " y_{1}\n",
       " y_{2}\n",
       " y_{3}"
      ]
     },
     "metadata": {},
     "output_type": "display_data"
    }
   ],
   "source": [
    "idxs = -1:2\n",
    "xs0 = [i*Δ for i in idxs]\n",
    "ys0 = [symbols(\"y_{$i}\") for i in idxs]\n",
    "\n",
    "idxs = -0:3\n",
    "xs1 = [i*Δ for i in idxs]\n",
    "ys1 = [symbols(\"y_{$i}\") for i in idxs]"
   ]
  },
  {
   "cell_type": "markdown",
   "metadata": {},
   "source": []
  },
  {
   "cell_type": "code",
   "execution_count": 64,
   "metadata": {},
   "outputs": [
    {
     "data": {
      "text/latex": [
       "$\\begin{equation*}- \\frac{x^{3} y_{-1}}{6 Δ^{3}} + \\frac{x^{3} y_{0}}{2 Δ^{3}} - \\frac{x^{3} y_{1}}{2 Δ^{3}} + \\frac{x^{3} y_{2}}{6 Δ^{3}} + \\frac{x^{2} y_{-1}}{2 Δ^{2}} - \\frac{x^{2} y_{0}}{Δ^{2}} + \\frac{x^{2} y_{1}}{2 Δ^{2}} - \\frac{x y_{-1}}{3 Δ} - \\frac{x y_{0}}{2 Δ} + \\frac{x y_{1}}{Δ} - \\frac{x y_{2}}{6 Δ} + y_{0}\\end{equation*}$\n"
      ],
      "text/plain": [
       "   3           3          3          3          2           2          2      \n",
       "  x ⋅y_{-1}   x ⋅y_{0}   x ⋅y_{1}   x ⋅y_{2}   x ⋅y_{-1}   x ⋅y_{0}   x ⋅y_{1}\n",
       "- ───────── + ──────── - ──────── + ──────── + ───────── - ──────── + ────────\n",
       "        3          3          3          3           2         2           2  \n",
       "     6⋅Δ        2⋅Δ        2⋅Δ        6⋅Δ         2⋅Δ         Δ         2⋅Δ   \n",
       "\n",
       "                                                 \n",
       "   x⋅y_{-1}   x⋅y_{0}   x⋅y_{1}   x⋅y_{2}        \n",
       " - ──────── - ─────── + ─────── - ─────── + y_{0}\n",
       "     3⋅Δ        2⋅Δ        Δ        6⋅Δ          \n",
       "                                                 "
      ]
     },
     "metadata": {},
     "output_type": "display_data"
    },
    {
     "data": {
      "text/latex": [
       "$\\begin{equation*}- \\frac{x^{3} y_{0}}{6 Δ^{3}} + \\frac{x^{3} y_{1}}{2 Δ^{3}} - \\frac{x^{3} y_{2}}{2 Δ^{3}} + \\frac{x^{3} y_{3}}{6 Δ^{3}} + \\frac{x^{2} y_{0}}{Δ^{2}} - \\frac{5 x^{2} y_{1}}{2 Δ^{2}} + \\frac{2 x^{2} y_{2}}{Δ^{2}} - \\frac{x^{2} y_{3}}{2 Δ^{2}} - \\frac{11 x y_{0}}{6 Δ} + \\frac{3 x y_{1}}{Δ} - \\frac{3 x y_{2}}{2 Δ} + \\frac{x y_{3}}{3 Δ} + y_{0}\\end{equation*}$\n"
      ],
      "text/plain": [
       "   3          3          3          3          2            2            2    \n",
       "  x ⋅y_{0}   x ⋅y_{1}   x ⋅y_{2}   x ⋅y_{3}   x ⋅y_{0}   5⋅x ⋅y_{1}   2⋅x ⋅y_{\n",
       "- ──────── + ──────── - ──────── + ──────── + ──────── - ────────── + ────────\n",
       "       3          3          3          3         2            2           2  \n",
       "    6⋅Δ        2⋅Δ        2⋅Δ        6⋅Δ         Δ          2⋅Δ           Δ   \n",
       "\n",
       "      2                                                             \n",
       "2}   x ⋅y_{3}   11⋅x⋅y_{0}   3⋅x⋅y_{1}   3⋅x⋅y_{2}   x⋅y_{3}        \n",
       "── - ──────── - ────────── + ───────── - ───────── + ─────── + y_{0}\n",
       "          2        6⋅Δ           Δ          2⋅Δ        3⋅Δ          \n",
       "       2⋅Δ                                                          "
      ]
     },
     "metadata": {},
     "output_type": "display_data"
    }
   ],
   "source": [
    "pol0 = sum(y*p(j,xs0) for (j,y) in enumerate(ys0)).expand()#.subs(x/Δ, δ)\n",
    "pol1 = sum(y*p(j,xs1) for (j,y) in enumerate(ys1)).expand()#.subs(x/Δ, δ);\n",
    "display(pol0)\n",
    "display(pol1)"
   ]
  },
  {
   "cell_type": "code",
   "execution_count": 65,
   "metadata": {},
   "outputs": [
    {
     "data": {
      "text/latex": [
       "$\\begin{equation*}0\\end{equation*}$\n"
      ],
      "text/plain": [
       "0"
      ]
     },
     "metadata": {},
     "output_type": "display_data"
    }
   ],
   "source": [
    "pol0.subs(x,Δ) - pol1.subs(x,Δ)"
   ]
  },
  {
   "cell_type": "code",
   "execution_count": 66,
   "metadata": {},
   "outputs": [
    {
     "data": {
      "text/latex": [
       "$\\begin{equation*}\\frac{y_{-1}}{6 Δ} - \\frac{2 y_{0}}{3 Δ} + \\frac{y_{1}}{Δ} - \\frac{2 y_{2}}{3 Δ} + \\frac{y_{3}}{6 Δ}\\end{equation*}$\n"
      ],
      "text/plain": [
       "y_{-1}   2⋅y_{0}   y_{1}   2⋅y_{2}   y_{3}\n",
       "────── - ─────── + ───── - ─────── + ─────\n",
       " 6⋅Δ       3⋅Δ       Δ       3⋅Δ      6⋅Δ "
      ]
     },
     "metadata": {},
     "output_type": "display_data"
    }
   ],
   "source": [
    "pol0.diff(x).subs(x,Δ) - pol1.diff(x).subs(x,Δ)"
   ]
  },
  {
   "cell_type": "code",
   "execution_count": 67,
   "metadata": {},
   "outputs": [
    {
     "data": {
      "text/latex": [
       "$\\begin{equation*}0\\end{equation*}$\n"
      ],
      "text/plain": [
       "0"
      ]
     },
     "metadata": {},
     "output_type": "display_data"
    }
   ],
   "source": [
    "pol0.diff(x,2).subs(x,Δ) - pol1.diff(x,2).subs(x,Δ)"
   ]
  },
  {
   "cell_type": "code",
   "execution_count": 59,
   "metadata": {},
   "outputs": [
    {
     "data": {
      "text/latex": [
       "$\\left[ \\begin{array}{r}- Δ\\\\0\\\\Δ\\\\2 Δ\\end{array} \\right]$\n"
      ],
      "text/plain": [
       "4-element Vector{Sym}:\n",
       "  -Δ\n",
       "   0\n",
       "   Δ\n",
       " 2⋅Δ"
      ]
     },
     "metadata": {},
     "output_type": "display_data"
    },
    {
     "data": {
      "text/latex": [
       "$\\left[ \\begin{array}{r}0\\\\Δ\\\\2 Δ\\\\3 Δ\\end{array} \\right]$\n"
      ],
      "text/plain": [
       "4-element Vector{Sym}:\n",
       "   0\n",
       "   Δ\n",
       " 2⋅Δ\n",
       " 3⋅Δ"
      ]
     },
     "metadata": {},
     "output_type": "display_data"
    }
   ],
   "source": [
    "xs0|>display\n",
    "xs1|>display"
   ]
  },
  {
   "cell_type": "markdown",
   "metadata": {},
   "source": [
    "# Fifth order polynomial interpolation"
   ]
  },
  {
   "cell_type": "markdown",
   "metadata": {},
   "source": [
    "Using 6 points for the interpolation"
   ]
  },
  {
   "cell_type": "code",
   "execution_count": 46,
   "metadata": {},
   "outputs": [
    {
     "data": {
      "text/latex": [
       "$\\left[ \\begin{array}{r}c_{0}\\\\c_{1}\\\\c_{2}\\\\c_{3}\\\\c_{4}\\\\c_{5}\\end{array} \\right]$\n"
      ],
      "text/plain": [
       "6-element Vector{Sym}:\n",
       " c_{0}\n",
       " c_{1}\n",
       " c_{2}\n",
       " c_{3}\n",
       " c_{4}\n",
       " c_{5}"
      ]
     },
     "metadata": {},
     "output_type": "display_data"
    }
   ],
   "source": [
    "using SymPy\n",
    "\n",
    "@syms x Δ δ\n",
    "xs = [i*Δ for i in -2:3]\n",
    "ys = [\n",
    "    symbols(\"y_{i-2}\"),\n",
    "    symbols(\"y_{i-1}\"),\n",
    "    symbols(\"y_{i}\"),\n",
    "    symbols(\"y_{i+1}\"),\n",
    "    symbols(\"y_{i+2}\"),\n",
    "    symbols(\"y_{i+3}\"),\n",
    "]\n",
    "cs = [symbols(\"c_{$i}\") for i in 0:5]"
   ]
  },
  {
   "cell_type": "code",
   "execution_count": 48,
   "metadata": {},
   "outputs": [
    {
     "data": {
      "text/plain": [
       "disc_diff2 (generic function with 2 methods)"
      ]
     },
     "metadata": {},
     "output_type": "display_data"
    }
   ],
   "source": [
    "disc_diff(i, ys = ys) = (ys[i-2] - 8*ys[i-1] + 8*ys[i+1] - ys[i+2])/(12Δ)\n",
    "disc_diff2(i, ys = ys) = (-ys[i-2]+16*ys[i-1]-30*ys[i]+16*ys[i+1]-ys[i+2])/(12*Δ^2)"
   ]
  },
  {
   "cell_type": "code",
   "execution_count": 49,
   "metadata": {},
   "outputs": [
    {
     "data": {
      "text/latex": [
       "$\\begin{equation*}- \\frac{5 δ^{5}}{24} + \\frac{13 δ^{4}}{24} - \\frac{3 δ^{3}}{8} - \\frac{δ^{2}}{24} + \\frac{δ}{12}\\end{equation*}$\n"
      ],
      "text/plain": [
       "     5       4      3    2     \n",
       "  5⋅δ    13⋅δ    3⋅δ    δ    δ \n",
       "- ──── + ───── - ──── - ── + ──\n",
       "   24      24     8     24   12"
      ]
     },
     "metadata": {},
     "output_type": "display_data"
    },
    {
     "data": {
      "text/latex": [
       "$\\begin{equation*}\\frac{25 δ^{5}}{24} - \\frac{8 δ^{4}}{3} + \\frac{13 δ^{3}}{8} + \\frac{2 δ^{2}}{3} - \\frac{2 δ}{3}\\end{equation*}$\n"
      ],
      "text/plain": [
       "    5      4       3      2      \n",
       "25⋅δ    8⋅δ    13⋅δ    2⋅δ    2⋅δ\n",
       "───── - ──── + ───── + ──── - ───\n",
       "  24     3       8      3      3 "
      ]
     },
     "metadata": {},
     "output_type": "display_data"
    },
    {
     "data": {
      "text/latex": [
       "$\\begin{equation*}- \\frac{25 δ^{5}}{12} + \\frac{21 δ^{4}}{4} - \\frac{35 δ^{3}}{12} - \\frac{5 δ^{2}}{4} + 1\\end{equation*}$\n"
      ],
      "text/plain": [
       "      5       4       3      2    \n",
       "  25⋅δ    21⋅δ    35⋅δ    5⋅δ     \n",
       "- ───── + ───── - ───── - ──── + 1\n",
       "    12      4       12     4      "
      ]
     },
     "metadata": {},
     "output_type": "display_data"
    },
    {
     "data": {
      "text/latex": [
       "$\\begin{equation*}\\frac{25 δ^{5}}{12} - \\frac{31 δ^{4}}{6} + \\frac{11 δ^{3}}{4} + \\frac{2 δ^{2}}{3} + \\frac{2 δ}{3}\\end{equation*}$\n"
      ],
      "text/plain": [
       "    5       4       3      2      \n",
       "25⋅δ    31⋅δ    11⋅δ    2⋅δ    2⋅δ\n",
       "───── - ───── + ───── + ──── + ───\n",
       "  12      6       4      3      3 "
      ]
     },
     "metadata": {},
     "output_type": "display_data"
    },
    {
     "data": {
      "text/latex": [
       "$\\begin{equation*}- \\frac{25 δ^{5}}{24} + \\frac{61 δ^{4}}{24} - \\frac{11 δ^{3}}{8} - \\frac{δ^{2}}{24} - \\frac{δ}{12}\\end{equation*}$\n"
      ],
      "text/plain": [
       "      5       4       3    2     \n",
       "  25⋅δ    61⋅δ    11⋅δ    δ    δ \n",
       "- ───── + ───── - ───── - ── - ──\n",
       "    24      24      8     24   12"
      ]
     },
     "metadata": {},
     "output_type": "display_data"
    },
    {
     "data": {
      "text/latex": [
       "$\\begin{equation*}\\frac{5 δ^{5}}{24} - \\frac{δ^{4}}{2} + \\frac{7 δ^{3}}{24}\\end{equation*}$\n"
      ],
      "text/plain": [
       "   5    4      3\n",
       "5⋅δ    δ    7⋅δ \n",
       "──── - ── + ────\n",
       " 24    2     24 "
      ]
     },
     "metadata": {},
     "output_type": "display_data"
    }
   ],
   "source": [
    "i1, i2 = 3,4\n",
    "quintic_pol = sum(symbols(\"c_{$i}\")*x^i for i in 0:5)\n",
    "eqs = [\n",
    "    quintic_pol.subs(x,xs[i1]) - ys[i1], # f(0)\n",
    "    quintic_pol.subs(x,xs[i2]) - ys[i2], # f(Δ)\n",
    "    quintic_pol.diff(x).subs(x,xs[i1]) - disc_diff(i1,ys),# f'(0)\n",
    "    quintic_pol.diff(x).subs(x,xs[i2]) - disc_diff(i2,ys), # f'(Δ)\n",
    "    quintic_pol.diff(x,2).subs(x,xs[i1]) - disc_diff2(i1,ys),# f''(0)\n",
    "    quintic_pol.diff(x,2).subs(x,xs[i2]) - disc_diff2(i2,ys), # f''(Δ)\n",
    "]\n",
    "eqs = expand.(eqs)\n",
    "\n",
    "sol = solve(eqs,cs)\n",
    "appr = quintic_pol.subs(sol) |> expand\n",
    "\n",
    "for y in ys\n",
    "    appr.coeff(y).subs(x/Δ,δ) |> display\n",
    "end"
   ]
  },
  {
   "cell_type": "markdown",
   "metadata": {},
   "source": [
    "### Left side"
   ]
  },
  {
   "cell_type": "markdown",
   "metadata": {},
   "source": [
    "#### 1 point missing ($x_{-1} = x_{min}$)"
   ]
  },
  {
   "cell_type": "code",
   "execution_count": 50,
   "metadata": {},
   "outputs": [
    {
     "data": {
      "text/latex": [
       "$\\begin{equation*}0\\end{equation*}$\n"
      ],
      "text/plain": [
       "0"
      ]
     },
     "metadata": {},
     "output_type": "display_data"
    },
    {
     "data": {
      "text/latex": [
       "$\\begin{equation*}\\frac{5 δ^{5}}{24} - \\frac{δ^{4}}{2} + \\frac{δ^{3}}{8} + \\frac{δ^{2}}{2} - \\frac{δ}{3}\\end{equation*}$\n"
      ],
      "text/plain": [
       "   5    4    3    2    \n",
       "5⋅δ    δ    δ    δ    δ\n",
       "──── - ── + ── + ── - ─\n",
       " 24    2    8    2    3"
      ]
     },
     "metadata": {},
     "output_type": "display_data"
    },
    {
     "data": {
      "text/latex": [
       "$\\begin{equation*}- \\frac{5 δ^{5}}{6} + 2 δ^{4} - \\frac{2 δ^{3}}{3} - δ^{2} - \\frac{δ}{2} + 1\\end{equation*}$\n"
      ],
      "text/plain": [
       "     5             3             \n",
       "  5⋅δ       4   2⋅δ     2   δ    \n",
       "- ──── + 2⋅δ  - ──── - δ  - ─ + 1\n",
       "   6             3          2    "
      ]
     },
     "metadata": {},
     "output_type": "display_data"
    },
    {
     "data": {
      "text/latex": [
       "$\\begin{equation*}\\frac{5 δ^{5}}{4} - 3 δ^{4} + \\frac{5 δ^{3}}{4} + \\frac{δ^{2}}{2} + δ\\end{equation*}$\n"
      ],
      "text/plain": [
       "   5             3    2    \n",
       "5⋅δ       4   5⋅δ    δ     \n",
       "──── - 3⋅δ  + ──── + ── + δ\n",
       " 4             4     2     "
      ]
     },
     "metadata": {},
     "output_type": "display_data"
    },
    {
     "data": {
      "text/latex": [
       "$\\begin{equation*}- \\frac{5 δ^{5}}{6} + 2 δ^{4} - δ^{3} - \\frac{δ}{6}\\end{equation*}$\n"
      ],
      "text/plain": [
       "     5                \n",
       "  5⋅δ       4    3   δ\n",
       "- ──── + 2⋅δ  - δ  - ─\n",
       "   6                 6"
      ]
     },
     "metadata": {},
     "output_type": "display_data"
    },
    {
     "data": {
      "text/latex": [
       "$\\begin{equation*}\\frac{5 δ^{5}}{24} - \\frac{δ^{4}}{2} + \\frac{7 δ^{3}}{24}\\end{equation*}$\n"
      ],
      "text/plain": [
       "   5    4      3\n",
       "5⋅δ    δ    7⋅δ \n",
       "──── - ── + ────\n",
       " 24    2     24 "
      ]
     },
     "metadata": {},
     "output_type": "display_data"
    }
   ],
   "source": [
    "disc_diff_a(i, ys = ys) = (- 2*ys[i-1] - 3*ys[i] +6*ys[i+1] - ys[i+2])/(6Δ)\n",
    "disc_diff2_a(i, ys = ys) = (ys[i-1]-2*ys[i]+ys[i+1])/(Δ^2)\n",
    "i1, i2 = 3,4\n",
    "\n",
    "eqs = [\n",
    "    quintic_pol.subs(x,xs[i1]) - ys[i1], # f(0)\n",
    "    quintic_pol.subs(x,xs[i2]) - ys[i2], # f(Δ)\n",
    "    quintic_pol.diff(x).subs(x,xs[i1]) - disc_diff_a(i1,ys),# f'(0)\n",
    "    quintic_pol.diff(x).subs(x,xs[i2]) - disc_diff(i2,ys), # f'(Δ)\n",
    "    quintic_pol.diff(x,2).subs(x,xs[i1]) - disc_diff2_a(i1,ys),# f''(0)\n",
    "    quintic_pol.diff(x,2).subs(x,xs[i2]) - disc_diff2(i2,ys), # f''(Δ)\n",
    "]\n",
    "eqs = expand.(eqs)\n",
    "\n",
    "sol = solve(eqs,cs)\n",
    "appr = quintic_pol.subs(sol) |> expand\n",
    "\n",
    "for y in ys\n",
    "    appr.coeff(y).subs(x/Δ,δ) |> display\n",
    "end"
   ]
  },
  {
   "cell_type": "markdown",
   "metadata": {},
   "source": [
    "#### 2 points missing ($x_{0} = x_{min}$)"
   ]
  },
  {
   "cell_type": "code",
   "execution_count": 51,
   "metadata": {},
   "outputs": [
    {
     "data": {
      "text/latex": [
       "$\\begin{equation*}0\\end{equation*}$\n"
      ],
      "text/plain": [
       "0"
      ]
     },
     "metadata": {},
     "output_type": "display_data"
    },
    {
     "data": {
      "text/latex": [
       "$\\begin{equation*}0\\end{equation*}$\n"
      ],
      "text/plain": [
       "0"
      ]
     },
     "metadata": {},
     "output_type": "display_data"
    },
    {
     "data": {
      "text/latex": [
       "$\\begin{equation*}- \\frac{δ^{5}}{2} + \\frac{7 δ^{4}}{6} - \\frac{2 δ^{3}}{3} + \\frac{δ^{2}}{2} - \\frac{3 δ}{2} + 1\\end{equation*}$\n"
      ],
      "text/plain": [
       "   5      4      3    2          \n",
       "  δ    7⋅δ    2⋅δ    δ    3⋅δ    \n",
       "- ── + ──── - ──── + ── - ─── + 1\n",
       "  2     6      3     2     2     "
      ]
     },
     "metadata": {},
     "output_type": "display_data"
    },
    {
     "data": {
      "text/latex": [
       "$\\begin{equation*}\\frac{3 δ^{5}}{2} - \\frac{7 δ^{4}}{2} + 2 δ^{3} - δ^{2} + 2 δ\\end{equation*}$\n"
      ],
      "text/plain": [
       "   5      4                  \n",
       "3⋅δ    7⋅δ       3    2      \n",
       "──── - ──── + 2⋅δ  - δ  + 2⋅δ\n",
       " 2      2                    "
      ]
     },
     "metadata": {},
     "output_type": "display_data"
    },
    {
     "data": {
      "text/latex": [
       "$\\begin{equation*}- \\frac{3 δ^{5}}{2} + \\frac{7 δ^{4}}{2} - 2 δ^{3} + \\frac{δ^{2}}{2} - \\frac{δ}{2}\\end{equation*}$\n"
      ],
      "text/plain": [
       "     5      4           2    \n",
       "  3⋅δ    7⋅δ       3   δ    δ\n",
       "- ──── + ──── - 2⋅δ  + ── - ─\n",
       "   2      2            2    2"
      ]
     },
     "metadata": {},
     "output_type": "display_data"
    },
    {
     "data": {
      "text/latex": [
       "$\\begin{equation*}\\frac{δ^{5}}{2} - \\frac{7 δ^{4}}{6} + \\frac{2 δ^{3}}{3}\\end{equation*}$\n"
      ],
      "text/plain": [
       " 5      4      3\n",
       "δ    7⋅δ    2⋅δ \n",
       "── - ──── + ────\n",
       "2     6      3  "
      ]
     },
     "metadata": {},
     "output_type": "display_data"
    }
   ],
   "source": [
    "disc_diff_b(i, ys = ys) = (- 3*ys[i] + 4*ys[i+1] - ys[i+2])/(2Δ)\n",
    "disc_diff2_b(i, ys = ys) = (ys[i]-2*ys[i+1]+ys[i+2])/(Δ^2)\n",
    "i1, i2 = 3,4\n",
    "\n",
    "eqs = [\n",
    "    quintic_pol.subs(x,xs[i1]) - ys[i1], # f(0)\n",
    "    quintic_pol.subs(x,xs[i2]) - ys[i2], # f(Δ)\n",
    "    quintic_pol.diff(x).subs(x,xs[i1]) - disc_diff_b(i1,ys),# f'(0)\n",
    "    quintic_pol.diff(x).subs(x,xs[i2]) - disc_diff_a(i2,ys), # f'(Δ)\n",
    "    quintic_pol.diff(x,2).subs(x,xs[i1]) - disc_diff2_b(i1,ys),# f''(0)\n",
    "    quintic_pol.diff(x,2).subs(x,xs[i2]) - disc_diff2_a(i2,ys), # f''(Δ)\n",
    "]\n",
    "eqs = expand.(eqs)\n",
    "\n",
    "sol = solve(eqs,cs)\n",
    "appr = quintic_pol.subs(sol) |> expand\n",
    "\n",
    "for y in ys\n",
    "    appr.coeff(y).subs(x/Δ,δ) |> display\n",
    "end"
   ]
  },
  {
   "cell_type": "markdown",
   "metadata": {},
   "source": [
    "### Right side"
   ]
  },
  {
   "cell_type": "markdown",
   "metadata": {},
   "source": [
    "#### 1 point missing ($x_{2} = x_{max}$)"
   ]
  },
  {
   "cell_type": "code",
   "execution_count": 65,
   "metadata": {},
   "outputs": [
    {
     "data": {
      "text/latex": [
       "$\\begin{equation*}\\frac{- 4 y_{i-1} + y_{i-2} + 3 y_{i}}{2 Δ}\\end{equation*}$\n"
      ],
      "text/plain": [
       "-4⋅y_{i-1} + y_{i-2} + 3⋅y_{i}\n",
       "──────────────────────────────\n",
       "             2⋅Δ              "
      ]
     },
     "metadata": {},
     "output_type": "display_data"
    }
   ],
   "source": [
    "disc_diff_d(i1)"
   ]
  },
  {
   "cell_type": "code",
   "execution_count": 59,
   "metadata": {},
   "outputs": [
    {
     "data": {
      "text/latex": [
       "$\\begin{equation*}\\frac{16 y_{i+1} - y_{i+2} + 16 y_{i-1} - y_{i-2} - 30 y_{i}}{12 Δ^{2}}\\end{equation*}$\n"
      ],
      "text/plain": [
       "16⋅y_{i+1} - y_{i+2} + 16⋅y_{i-1} - y_{i-2} - 30⋅y_{i}\n",
       "──────────────────────────────────────────────────────\n",
       "                            2                         \n",
       "                        12⋅Δ                          "
      ]
     },
     "metadata": {},
     "output_type": "display_data"
    }
   ],
   "source": [
    "disc_diff2(i1)"
   ]
  },
  {
   "cell_type": "code",
   "execution_count": 73,
   "metadata": {},
   "outputs": [
    {
     "data": {
      "text/latex": [
       "$\\begin{equation*}- \\frac{5 δ^{5}}{24} + \\frac{13 δ^{4}}{24} - \\frac{3 δ^{3}}{8} - \\frac{δ^{2}}{24} + \\frac{δ}{12}\\end{equation*}$\n"
      ],
      "text/plain": [
       "     5       4      3    2     \n",
       "  5⋅δ    13⋅δ    3⋅δ    δ    δ \n",
       "- ──── + ───── - ──── - ── + ──\n",
       "   24      24     8     24   12"
      ]
     },
     "metadata": {},
     "output_type": "display_data"
    },
    {
     "data": {
      "text/latex": [
       "$\\begin{equation*}\\frac{5 δ^{5}}{6} - \\frac{13 δ^{4}}{6} + \\frac{4 δ^{3}}{3} + \\frac{2 δ^{2}}{3} - \\frac{2 δ}{3}\\end{equation*}$\n"
      ],
      "text/plain": [
       "   5       4      3      2      \n",
       "5⋅δ    13⋅δ    4⋅δ    2⋅δ    2⋅δ\n",
       "──── - ───── + ──── + ──── - ───\n",
       " 6       6      3      3      3 "
      ]
     },
     "metadata": {},
     "output_type": "display_data"
    },
    {
     "data": {
      "text/latex": [
       "$\\begin{equation*}- \\frac{5 δ^{5}}{4} + \\frac{13 δ^{4}}{4} - \\frac{7 δ^{3}}{4} - \\frac{5 δ^{2}}{4} + 1\\end{equation*}$\n"
      ],
      "text/plain": [
       "     5       4      3      2    \n",
       "  5⋅δ    13⋅δ    7⋅δ    5⋅δ     \n",
       "- ──── + ───── - ──── - ──── + 1\n",
       "   4       4      4      4      "
      ]
     },
     "metadata": {},
     "output_type": "display_data"
    },
    {
     "data": {
      "text/latex": [
       "$\\begin{equation*}\\frac{5 δ^{5}}{6} - \\frac{13 δ^{4}}{6} + δ^{3} + \\frac{2 δ^{2}}{3} + \\frac{2 δ}{3}\\end{equation*}$\n"
      ],
      "text/plain": [
       "   5       4           2      \n",
       "5⋅δ    13⋅δ     3   2⋅δ    2⋅δ\n",
       "──── - ───── + δ  + ──── + ───\n",
       " 6       6           3      3 "
      ]
     },
     "metadata": {},
     "output_type": "display_data"
    },
    {
     "data": {
      "text/latex": [
       "$\\begin{equation*}- \\frac{5 δ^{5}}{24} + \\frac{13 δ^{4}}{24} - \\frac{5 δ^{3}}{24} - \\frac{δ^{2}}{24} - \\frac{δ}{12}\\end{equation*}$\n"
      ],
      "text/plain": [
       "     5       4      3    2     \n",
       "  5⋅δ    13⋅δ    5⋅δ    δ    δ \n",
       "- ──── + ───── - ──── - ── - ──\n",
       "   24      24     24    24   12"
      ]
     },
     "metadata": {},
     "output_type": "display_data"
    },
    {
     "data": {
      "text/latex": [
       "$\\begin{equation*}0\\end{equation*}$\n"
      ],
      "text/plain": [
       "0"
      ]
     },
     "metadata": {},
     "output_type": "display_data"
    }
   ],
   "source": [
    "disc_diff_c(i, ys = ys) = (ys[i-2] - 6*ys[i-1] + 3*ys[i] + 2*ys[i+1])/(6Δ)\n",
    "disc_diff2_c(i, ys = ys) = (ys[i-1]-2*ys[i]+ys[i+1])/(Δ^2)\n",
    "i1, i2 = 3,4\n",
    "\n",
    "eqs = [\n",
    "    quintic_pol.subs(x,xs[i1]) - ys[i1], # f(0)\n",
    "    quintic_pol.subs(x,xs[i2]) - ys[i2], # f(Δ)\n",
    "    quintic_pol.diff(x).subs(x,xs[i1]) - disc_diff(i1,ys),# f'(0)\n",
    "    quintic_pol.diff(x).subs(x,xs[i2]) - disc_diff_c(i2,ys), # f'(Δ)\n",
    "    quintic_pol.diff(x,2).subs(x,xs[i1]) - disc_diff2(i1,ys),# f''(0)\n",
    "    quintic_pol.diff(x,2).subs(x,xs[i2]) - disc_diff2_c(i2,ys), # f''(Δ)\n",
    "]\n",
    "eqs = expand.(eqs)\n",
    "\n",
    "sol = solve(eqs,cs)\n",
    "appr = quintic_pol.subs(sol) |> expand\n",
    "\n",
    "for y in ys\n",
    "    appr.coeff(y).subs(x/Δ,δ) |> display\n",
    "end"
   ]
  },
  {
   "cell_type": "markdown",
   "metadata": {},
   "source": [
    "#### 2 points missing ($x_{1} = x_{max}$)"
   ]
  },
  {
   "cell_type": "code",
   "execution_count": 74,
   "metadata": {},
   "outputs": [
    {
     "data": {
      "text/latex": [
       "$\\begin{equation*}- \\frac{δ^{5}}{2} + \\frac{4 δ^{4}}{3} - δ^{3} + \\frac{δ}{6}\\end{equation*}$\n"
      ],
      "text/plain": [
       "   5      4         \n",
       "  δ    4⋅δ     3   δ\n",
       "- ── + ──── - δ  + ─\n",
       "  2     3          6"
      ]
     },
     "metadata": {},
     "output_type": "display_data"
    },
    {
     "data": {
      "text/latex": [
       "$\\begin{equation*}\\frac{3 δ^{5}}{2} - 4 δ^{4} + 3 δ^{3} + \\frac{δ^{2}}{2} - δ\\end{equation*}$\n"
      ],
      "text/plain": [
       "   5                  2    \n",
       "3⋅δ       4      3   δ     \n",
       "──── - 4⋅δ  + 3⋅δ  + ── - δ\n",
       " 2                   2     "
      ]
     },
     "metadata": {},
     "output_type": "display_data"
    },
    {
     "data": {
      "text/latex": [
       "$\\begin{equation*}- \\frac{3 δ^{5}}{2} + 4 δ^{4} - 3 δ^{3} - δ^{2} + \\frac{δ}{2} + 1\\end{equation*}$\n"
      ],
      "text/plain": [
       "     5                           \n",
       "  3⋅δ       4      3    2   δ    \n",
       "- ──── + 4⋅δ  - 3⋅δ  - δ  + ─ + 1\n",
       "   2                        2    "
      ]
     },
     "metadata": {},
     "output_type": "display_data"
    },
    {
     "data": {
      "text/latex": [
       "$\\begin{equation*}\\frac{δ^{5}}{2} - \\frac{4 δ^{4}}{3} + δ^{3} + \\frac{δ^{2}}{2} + \\frac{δ}{3}\\end{equation*}$\n"
      ],
      "text/plain": [
       " 5      4         2    \n",
       "δ    4⋅δ     3   δ    δ\n",
       "── - ──── + δ  + ── + ─\n",
       "2     3          2    3"
      ]
     },
     "metadata": {},
     "output_type": "display_data"
    },
    {
     "data": {
      "text/latex": [
       "$\\begin{equation*}0\\end{equation*}$\n"
      ],
      "text/plain": [
       "0"
      ]
     },
     "metadata": {},
     "output_type": "display_data"
    },
    {
     "data": {
      "text/latex": [
       "$\\begin{equation*}0\\end{equation*}$\n"
      ],
      "text/plain": [
       "0"
      ]
     },
     "metadata": {},
     "output_type": "display_data"
    }
   ],
   "source": [
    "disc_diff_d(i, ys = ys) = (1*ys[i-2] - 4*ys[i-1] + 3ys[i])/(2Δ)\n",
    "disc_diff2_d(i, ys = ys) = (ys[i-2]-2*ys[i-1]+ys[i])/(Δ^2)\n",
    "i1, i2 = 3,4\n",
    "\n",
    "eqs = [\n",
    "    quintic_pol.subs(x,xs[i1]) - ys[i1], # f(0)\n",
    "    quintic_pol.subs(x,xs[i2]) - ys[i2], # f(Δ)\n",
    "    quintic_pol.diff(x).subs(x,xs[i1]) - disc_diff_c(i1,ys),# f'(0)\n",
    "    quintic_pol.diff(x).subs(x,xs[i2]) - disc_diff_d(i2,ys), # f'(Δ)\n",
    "    quintic_pol.diff(x,2).subs(x,xs[i1]) - disc_diff2_c(i1,ys),# f''(0)\n",
    "    quintic_pol.diff(x,2).subs(x,xs[i2]) - disc_diff2_d(i2,ys), # f''(Δ)\n",
    "]\n",
    "eqs = expand.(eqs)\n",
    "\n",
    "sol = solve(eqs,cs)\n",
    "appr = quintic_pol.subs(sol) |> expand\n",
    "\n",
    "for y in ys\n",
    "    appr.coeff(y).subs(x/Δ,δ) |> display\n",
    "end"
   ]
  },
  {
   "cell_type": "markdown",
   "metadata": {},
   "source": [
    "### Omitting Boundary conditions"
   ]
  },
  {
   "cell_type": "code",
   "execution_count": 4,
   "metadata": {},
   "outputs": [
    {
     "data": {
      "text/latex": [
       "$\\begin{equation*}0\\end{equation*}$\n"
      ],
      "text/plain": [
       "0"
      ]
     },
     "metadata": {},
     "output_type": "display_data"
    },
    {
     "data": {
      "text/latex": [
       "$\\begin{equation*}\\frac{δ^{2}}{2} - \\frac{3 δ}{2} + 1\\end{equation*}$\n"
      ],
      "text/plain": [
       " 2          \n",
       "δ    3⋅δ    \n",
       "── - ─── + 1\n",
       "2     2     "
      ]
     },
     "metadata": {},
     "output_type": "display_data"
    },
    {
     "data": {
      "text/latex": [
       "$\\begin{equation*}- δ^{2} + 2 δ\\end{equation*}$\n"
      ],
      "text/plain": [
       "   2      \n",
       "- δ  + 2⋅δ"
      ]
     },
     "metadata": {},
     "output_type": "display_data"
    },
    {
     "data": {
      "text/latex": [
       "$\\begin{equation*}\\frac{δ^{2}}{2} - \\frac{δ}{2}\\end{equation*}$\n"
      ],
      "text/plain": [
       " 2    \n",
       "δ    δ\n",
       "── - ─\n",
       "2    2"
      ]
     },
     "metadata": {},
     "output_type": "display_data"
    }
   ],
   "source": [
    "disc_diff_0(i, ys = ys) = (- 2*ys[i-1] - 3*ys[i] +6*ys[i+1] - ys[i+2])/(6Δ)\n",
    "disc_diff2_0(i, ys = ys) = (ys[i-1]-2*ys[i]+*ys[i+1])/(Δ^2)\n",
    "i1, i2 = 3,4\n",
    "\n",
    "cubic_pol = sum(symbols(\"c_{$i}\")*x^i for i in 0:3)\n",
    "eqs = [\n",
    "    cubic_pol.subs(x,xs[2]) - ys[2], # f(0)\n",
    "    cubic_pol.subs(x,xs[3]) - ys[3], # f(Δ)\n",
    "    cubic_pol.diff(x).subs(x,xs[3]) - disc_diff(3,ys), # f'(Δ)\n",
    "    cubic_pol.diff(x,2).subs(x,xs[3]) - disc_diff2(3,ys), # f''(Δ)\n",
    "]\n",
    "eqs = expand.(eqs)\n",
    "\n",
    "sol = solve(eqs,cs)\n",
    "appr = cubic_pol.subs(sol) |> expand\n",
    "\n",
    "for y in ys\n",
    "    appr.coeff(y).subs(x/Δ,δ) |> display\n",
    "end"
   ]
  },
  {
   "cell_type": "code",
   "execution_count": 7,
   "metadata": {},
   "outputs": [
    {
     "data": {
      "text/latex": [
       "$\\begin{equation*}\\frac{δ^{2}}{2} - \\frac{δ}{2}\\end{equation*}$\n"
      ],
      "text/plain": [
       " 2    \n",
       "δ    δ\n",
       "── - ─\n",
       "2    2"
      ]
     },
     "metadata": {},
     "output_type": "display_data"
    },
    {
     "data": {
      "text/latex": [
       "$\\begin{equation*}1 - δ^{2}\\end{equation*}$\n"
      ],
      "text/plain": [
       "     2\n",
       "1 - δ "
      ]
     },
     "metadata": {},
     "output_type": "display_data"
    },
    {
     "data": {
      "text/latex": [
       "$\\begin{equation*}\\frac{δ^{2}}{2} + \\frac{δ}{2}\\end{equation*}$\n"
      ],
      "text/plain": [
       " 2    \n",
       "δ    δ\n",
       "── + ─\n",
       "2    2"
      ]
     },
     "metadata": {},
     "output_type": "display_data"
    },
    {
     "data": {
      "text/latex": [
       "$\\begin{equation*}0\\end{equation*}$\n"
      ],
      "text/plain": [
       "0"
      ]
     },
     "metadata": {},
     "output_type": "display_data"
    }
   ],
   "source": [
    "# End: not enforcing unknown conditions\n",
    "cubic_pol = sum(symbols(\"c_{$i}\")*x^i for i in 0:3)\n",
    "eqs = [\n",
    "    cubic_pol.subs(x,xs[2]) - ys[2], # f(0)\n",
    "    cubic_pol.subs(x,xs[3]) - ys[3], # f(Δ)\n",
    "    cubic_pol.diff(x).subs(x,xs[2]) - disc_diff(2,ys),# f'(0)\n",
    "    cubic_pol.diff(x,2).subs(x,xs[2]) - disc_diff2(2,ys),# f''(0)\n",
    "]\n",
    "eqs = expand.(eqs)\n",
    "\n",
    "sol = solve(eqs, cs)\n",
    "appr = cubic_pol.subs(sol) |> expand\n",
    "\n",
    "for y in ys\n",
    "    appr.coeff(y).subs(x/Δ,δ) |> display\n",
    "end"
   ]
  }
 ],
 "metadata": {
  "kernelspec": {
   "display_name": "Julia 1.7.2",
   "language": "julia",
   "name": "julia-1.7"
  },
  "language_info": {
   "file_extension": ".jl",
   "mimetype": "application/julia",
   "name": "julia",
   "version": "1.7.2"
  },
  "toc": {
   "base_numbering": 1,
   "nav_menu": {},
   "number_sections": true,
   "sideBar": true,
   "skip_h1_title": false,
   "title_cell": "Table of Contents",
   "title_sidebar": "Contents",
   "toc_cell": false,
   "toc_position": {},
   "toc_section_display": true,
   "toc_window_display": false
  }
 },
 "nbformat": 4,
 "nbformat_minor": 2
}
