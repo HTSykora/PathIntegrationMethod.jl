{
 "cells": [
  {
   "cell_type": "markdown",
   "metadata": {},
   "source": [
    "# Cubic with discretized derivatives"
   ]
  },
  {
   "cell_type": "code",
   "execution_count": 173,
   "metadata": {},
   "outputs": [
    {
     "data": {
      "text/latex": [
       "$\\left[ \\begin{array}{r}c_{0}\\\\c_{1}\\\\c_{2}\\\\c_{3}\\end{array} \\right]$\n"
      ],
      "text/plain": [
       "4-element Vector{Sym}:\n",
       " c_{0}\n",
       " c_{1}\n",
       " c_{2}\n",
       " c_{3}"
      ]
     },
     "metadata": {},
     "output_type": "display_data"
    }
   ],
   "source": [
    "using SymPy\n",
    "\n",
    "@syms x Δ δ\n",
    "xs = [\n",
    "    symbols(\"x_{i-1}\"),\n",
    "    symbols(\"x_{i}\"),\n",
    "    symbols(\"x_{i+1}\"),\n",
    "    symbols(\"x_{i+2}\"),\n",
    "]\n",
    "xs = [i*Δ for i in -1:2]\n",
    "ys = [\n",
    "    symbols(\"y_{i-1}\"),\n",
    "    symbols(\"y_{i}\"),\n",
    "    symbols(\"y_{i+1}\"),\n",
    "    symbols(\"y_{i+2}\"),\n",
    "]\n",
    "cs = [symbols(\"c_{$i}\") for i in 0:3]\n"
   ]
  },
  {
   "cell_type": "markdown",
   "metadata": {},
   "source": [
    "# General case"
   ]
  },
  {
   "cell_type": "code",
   "execution_count": 114,
   "metadata": {},
   "outputs": [
    {
     "data": {
      "text/latex": [
       "$\\begin{equation*}- \\frac{δ^{3}}{2} + δ^{2} - \\frac{δ}{2}\\end{equation*}$\n"
      ],
      "text/plain": [
       "   3         \n",
       "  δ     2   δ\n",
       "- ── + δ  - ─\n",
       "  2         2"
      ]
     },
     "metadata": {},
     "output_type": "display_data"
    },
    {
     "data": {
      "text/latex": [
       "$\\begin{equation*}\\frac{3 δ^{3}}{2} - \\frac{5 δ^{2}}{2} + 1\\end{equation*}$\n"
      ],
      "text/plain": [
       "   3      2    \n",
       "3⋅δ    5⋅δ     \n",
       "──── - ──── + 1\n",
       " 2      2      "
      ]
     },
     "metadata": {},
     "output_type": "display_data"
    },
    {
     "data": {
      "text/latex": [
       "$\\begin{equation*}- \\frac{3 δ^{3}}{2} + 2 δ^{2} + \\frac{δ}{2}\\end{equation*}$\n"
      ],
      "text/plain": [
       "     3           \n",
       "  3⋅δ       2   δ\n",
       "- ──── + 2⋅δ  + ─\n",
       "   2            2"
      ]
     },
     "metadata": {},
     "output_type": "display_data"
    },
    {
     "data": {
      "text/latex": [
       "$\\begin{equation*}\\frac{δ^{3}}{2} - \\frac{δ^{2}}{2}\\end{equation*}$\n"
      ],
      "text/plain": [
       " 3    2\n",
       "δ    δ \n",
       "── - ──\n",
       "2    2 "
      ]
     },
     "metadata": {},
     "output_type": "display_data"
    }
   ],
   "source": [
    "cubic_pol = sum(symbols(\"c_{$i}\")*x^i for i in 0:3)\n",
    "eqs = [\n",
    "    cubic_pol.subs(x,xs[2] - xs[2]) - ys[2], # f(0)\n",
    "    cubic_pol.subs(x,xs[3] - xs[2]) - ys[3], # f(Δ)\n",
    "    cubic_pol.diff(x).subs(x,xs[2] - xs[2]) - (ys[3] - ys[1])/(xs[3] - xs[1]),# f'(0)\n",
    "    cubic_pol.diff(x).subs(x,xs[3] - xs[2]) - (ys[4] - ys[2])/(xs[4] - xs[2]) # f'(Δ)\n",
    "]\n",
    "eqs = expand.(eqs)\n",
    "\n",
    "sol = solve(eqs,cs)\n",
    "appr = cubic_pol.subs(sol) |> expand\n",
    "\n",
    "for y in ys\n",
    "    appr.coeff(y).subs(x/Δ,δ) |> display\n",
    "end"
   ]
  },
  {
   "cell_type": "markdown",
   "metadata": {},
   "source": [
    "# Near endpoints"
   ]
  },
  {
   "cell_type": "code",
   "execution_count": 123,
   "metadata": {},
   "outputs": [
    {
     "data": {
      "text/latex": [
       "$\\begin{equation*}0\\end{equation*}$\n"
      ],
      "text/plain": [
       "0"
      ]
     },
     "metadata": {},
     "output_type": "display_data"
    },
    {
     "data": {
      "text/latex": [
       "$\\begin{equation*}\\frac{5 δ^{3}}{6} - \\frac{7 δ^{2}}{6} - \\frac{2 δ}{3} + 1\\end{equation*}$\n"
      ],
      "text/plain": [
       "   3      2          \n",
       "5⋅δ    7⋅δ    2⋅δ    \n",
       "──── - ──── - ─── + 1\n",
       " 6      6      3     "
      ]
     },
     "metadata": {},
     "output_type": "display_data"
    },
    {
     "data": {
      "text/latex": [
       "$\\begin{equation*}- \\frac{4 δ^{3}}{3} + \\frac{5 δ^{2}}{3} + \\frac{2 δ}{3}\\end{equation*}$\n"
      ],
      "text/plain": [
       "     3      2      \n",
       "  4⋅δ    5⋅δ    2⋅δ\n",
       "- ──── + ──── + ───\n",
       "   3      3      3 "
      ]
     },
     "metadata": {},
     "output_type": "display_data"
    },
    {
     "data": {
      "text/latex": [
       "$\\begin{equation*}\\frac{δ^{3}}{2} - \\frac{δ^{2}}{2}\\end{equation*}$\n"
      ],
      "text/plain": [
       " 3    2\n",
       "δ    δ \n",
       "── - ──\n",
       "2    2 "
      ]
     },
     "metadata": {},
     "output_type": "display_data"
    }
   ],
   "source": [
    "##Beginning\n",
    "\n",
    "# m = 1 ## Assuming explicit derivative in the beginning\n",
    "m = 2 ## Midpoint approximated with the same end value\n",
    "m = 3//2 ## Mean of the 2 approaches\n",
    "\n",
    "eqs = [\n",
    "    cubic_pol.subs(x,xs[2] - xs[2]) - ys[2], # f(0)\n",
    "    cubic_pol.subs(x,xs[3] - xs[2]) - ys[3], # f(Δ)\n",
    "    cubic_pol.diff(x).subs(x,xs[2] - xs[2]) - (ys[3] - ys[2])/(m*(xs[3] - xs[2])),# f'(0)\n",
    "    cubic_pol.diff(x).subs(x,xs[3] - xs[2]) - (ys[4] - ys[2])/(xs[4] - xs[2]) # f'(Δ)\n",
    "]\n",
    "eqs = expand.(eqs)\n",
    "\n",
    "sol = solve(eqs,cs)\n",
    "appr = cubic_pol.subs(sol) |> expand\n",
    "\n",
    "for y in ys\n",
    "    appr.coeff(y).subs(x/Δ,δ) |> display\n",
    "end"
   ]
  },
  {
   "cell_type": "code",
   "execution_count": 172,
   "metadata": {},
   "outputs": [
    {
     "data": {
      "text/latex": [
       "$\\begin{equation*}- \\frac{δ^{3}}{2} + δ^{2} - \\frac{δ}{2}\\end{equation*}$\n"
      ],
      "text/plain": [
       "   3         \n",
       "  δ     2   δ\n",
       "- ── + δ  - ─\n",
       "  2         2"
      ]
     },
     "metadata": {},
     "output_type": "display_data"
    },
    {
     "data": {
      "text/latex": [
       "$\\begin{equation*}δ^{3} - 2 δ^{2} + 1\\end{equation*}$\n"
      ],
      "text/plain": [
       " 3      2    \n",
       "δ  - 2⋅δ  + 1"
      ]
     },
     "metadata": {},
     "output_type": "display_data"
    },
    {
     "data": {
      "text/latex": [
       "$\\begin{equation*}- \\frac{δ^{3}}{2} + δ^{2} + \\frac{δ}{2}\\end{equation*}$\n"
      ],
      "text/plain": [
       "   3         \n",
       "  δ     2   δ\n",
       "- ── + δ  + ─\n",
       "  2         2"
      ]
     },
     "metadata": {},
     "output_type": "display_data"
    },
    {
     "data": {
      "text/latex": [
       "$\\begin{equation*}0\\end{equation*}$\n"
      ],
      "text/plain": [
       "0"
      ]
     },
     "metadata": {},
     "output_type": "display_data"
    }
   ],
   "source": [
    "##End\n",
    "m = 1 ## Assuming explicit derivative in the beginning\n",
    "# m = 2 ## Midpoint approximated with the same end value\n",
    "# m = 3//2 ## Mean of the 2 approaches\n",
    "\n",
    "eqs = [\n",
    "    cubic_pol.subs(x,xs[2] - xs[2]) - ys[2], # f(0)\n",
    "    cubic_pol.subs(x,xs[3] - xs[2]) - ys[3], # f(Δ)\n",
    "    cubic_pol.diff(x).subs(x,xs[2] - xs[2]) - (ys[3] - ys[1])/((xs[3] - xs[1])),# f'(0)\n",
    "    cubic_pol.diff(x).subs(x,xs[3] - xs[2]) - (ys[3] - ys[2])/(m*(xs[3] - xs[2])) # f'(Δ)\n",
    "]\n",
    "eqs = expand.(eqs)\n",
    "\n",
    "sol = solve(eqs,cs)\n",
    "appr = cubic_pol.subs(sol) |> expand\n",
    "\n",
    "for y in ys\n",
    "    appr.coeff(y).subs(x/Δ,δ) |> display\n",
    "end"
   ]
  },
  {
   "cell_type": "code",
   "execution_count": 178,
   "metadata": {},
   "outputs": [
    {
     "data": {
      "text/latex": [
       "$\\begin{equation*}0\\end{equation*}$\n"
      ],
      "text/plain": [
       "0"
      ]
     },
     "metadata": {},
     "output_type": "display_data"
    },
    {
     "data": {
      "text/latex": [
       "$\\begin{equation*}\\frac{δ^{2}}{2} - \\frac{3 δ}{2} + 1\\end{equation*}$\n"
      ],
      "text/plain": [
       " 2          \n",
       "δ    3⋅δ    \n",
       "── - ─── + 1\n",
       "2     2     "
      ]
     },
     "metadata": {},
     "output_type": "display_data"
    },
    {
     "data": {
      "text/latex": [
       "$\\begin{equation*}- δ^{2} + 2 δ\\end{equation*}$\n"
      ],
      "text/plain": [
       "   2      \n",
       "- δ  + 2⋅δ"
      ]
     },
     "metadata": {},
     "output_type": "display_data"
    },
    {
     "data": {
      "text/latex": [
       "$\\begin{equation*}\\frac{δ^{2}}{2} - \\frac{δ}{2}\\end{equation*}$\n"
      ],
      "text/plain": [
       " 2    \n",
       "δ    δ\n",
       "── - ─\n",
       "2    2"
      ]
     },
     "metadata": {},
     "output_type": "display_data"
    }
   ],
   "source": [
    "##Beginning Not enforcing unknown conditions\n",
    "quad_pol = sum(symbols(\"c_{$i}\")*x^i for i in 0:2)\n",
    "eqs = [\n",
    "    quad_pol.subs(x,xs[2] - xs[2]) - ys[2], # f(0)\n",
    "    quad_pol.subs(x,xs[3] - xs[2]) - ys[3], # f(Δ)\n",
    "    quad_pol.diff(x).subs(x,xs[3] - xs[2]) - (ys[4] - ys[2])/(xs[4] - xs[2]) # f'(Δ)\n",
    "]\n",
    "eqs = expand.(eqs)\n",
    "\n",
    "sol = solve(eqs,cs)\n",
    "appr = quad_pol.subs(sol) |> expand\n",
    "\n",
    "for y in ys\n",
    "    appr.coeff(y).subs(x/Δ,δ) |> display\n",
    "end"
   ]
  },
  {
   "cell_type": "code",
   "execution_count": 179,
   "metadata": {},
   "outputs": [
    {
     "data": {
      "text/latex": [
       "$\\begin{equation*}\\frac{δ^{2}}{2} - \\frac{δ}{2}\\end{equation*}$\n"
      ],
      "text/plain": [
       " 2    \n",
       "δ    δ\n",
       "── - ─\n",
       "2    2"
      ]
     },
     "metadata": {},
     "output_type": "display_data"
    },
    {
     "data": {
      "text/latex": [
       "$\\begin{equation*}1 - δ^{2}\\end{equation*}$\n"
      ],
      "text/plain": [
       "     2\n",
       "1 - δ "
      ]
     },
     "metadata": {},
     "output_type": "display_data"
    },
    {
     "data": {
      "text/latex": [
       "$\\begin{equation*}\\frac{δ^{2}}{2} + \\frac{δ}{2}\\end{equation*}$\n"
      ],
      "text/plain": [
       " 2    \n",
       "δ    δ\n",
       "── + ─\n",
       "2    2"
      ]
     },
     "metadata": {},
     "output_type": "display_data"
    },
    {
     "data": {
      "text/latex": [
       "$\\begin{equation*}0\\end{equation*}$\n"
      ],
      "text/plain": [
       "0"
      ]
     },
     "metadata": {},
     "output_type": "display_data"
    }
   ],
   "source": [
    "##End Not enforcing unknown conditions\n",
    "quad_pol = sum(symbols(\"c_{$i}\")*x^i for i in 0:2)\n",
    "\n",
    "eqs = [\n",
    "    quad_pol.subs(x,xs[2] - xs[2]) - ys[2], # f(0)\n",
    "    quad_pol.subs(x,xs[3] - xs[2]) - ys[3], # f(Δ)\n",
    "    quad_pol.diff(x).subs(x,xs[2] - xs[2]) - (ys[3] - ys[1])/((xs[3] - xs[1])),# f'(0)\n",
    "]\n",
    "eqs = expand.(eqs)\n",
    "\n",
    "sol = solve(eqs,cs)\n",
    "appr = quad_pol.subs(sol) |> expand\n",
    "\n",
    "for y in ys\n",
    "    appr.coeff(y).subs(x/Δ,δ) |> display\n",
    "end"
   ]
  },
  {
   "cell_type": "markdown",
   "metadata": {},
   "source": [
    "# Cubic with Lagrangian polynomials"
   ]
  },
  {
   "cell_type": "code",
   "execution_count": 38,
   "metadata": {},
   "outputs": [
    {
     "data": {
      "text/plain": [
       "(x, Δ, δ)"
      ]
     },
     "metadata": {},
     "output_type": "display_data"
    }
   ],
   "source": [
    "using SymPy\n",
    "\n",
    "@syms x Δ δ"
   ]
  },
  {
   "cell_type": "code",
   "execution_count": 40,
   "metadata": {},
   "outputs": [
    {
     "data": {
      "text/latex": [
       "$\\left[ \\begin{array}{r}y_{-1}\\\\y_{0}\\\\y_{1}\\\\y_{2}\\end{array} \\right]$\n"
      ],
      "text/plain": [
       "4-element Vector{Sym}:\n",
       " y_{-1}\n",
       "  y_{0}\n",
       "  y_{1}\n",
       "  y_{2}"
      ]
     },
     "metadata": {},
     "output_type": "display_data"
    }
   ],
   "source": [
    "idxs = -1:2\n",
    "xs = [i*Δ for i in idxs]\n",
    "ys = [symbols(\"y_{$i}\") for i in idxs]"
   ]
  },
  {
   "cell_type": "code",
   "execution_count": 42,
   "metadata": {},
   "outputs": [
    {
     "data": {
      "text/plain": [
       "p (generic function with 2 methods)"
      ]
     },
     "metadata": {},
     "output_type": "display_data"
    }
   ],
   "source": [
    "p(j,xs = xs) = prod((x-xs[k])/(xs[j]-xs[k]) for k in 1:length(xs) if k != j)"
   ]
  },
  {
   "cell_type": "code",
   "execution_count": 43,
   "metadata": {},
   "outputs": [
    {
     "data": {
      "text/latex": [
       "$\\begin{equation*}- \\frac{δ^{3}}{6} + \\frac{δ^{2}}{2} - \\frac{δ}{3}\\end{equation*}$\n"
      ],
      "text/plain": [
       "   3    2    \n",
       "  δ    δ    δ\n",
       "- ── + ── - ─\n",
       "  6    2    3"
      ]
     },
     "metadata": {},
     "output_type": "display_data"
    },
    {
     "data": {
      "text/latex": [
       "$\\begin{equation*}\\frac{δ^{3}}{2} - δ^{2} - \\frac{δ}{2} + 1\\end{equation*}$\n"
      ],
      "text/plain": [
       " 3             \n",
       "δ     2   δ    \n",
       "── - δ  - ─ + 1\n",
       "2         2    "
      ]
     },
     "metadata": {},
     "output_type": "display_data"
    },
    {
     "data": {
      "text/latex": [
       "$\\begin{equation*}- \\frac{δ^{3}}{2} + \\frac{δ^{2}}{2} + δ\\end{equation*}$\n"
      ],
      "text/plain": [
       "   3    2    \n",
       "  δ    δ     \n",
       "- ── + ── + δ\n",
       "  2    2     "
      ]
     },
     "metadata": {},
     "output_type": "display_data"
    },
    {
     "data": {
      "text/latex": [
       "$\\begin{equation*}\\frac{δ^{3}}{6} - \\frac{δ}{6}\\end{equation*}$\n"
      ],
      "text/plain": [
       " 3    \n",
       "δ    δ\n",
       "── - ─\n",
       "6    6"
      ]
     },
     "metadata": {},
     "output_type": "display_data"
    }
   ],
   "source": [
    "for i in 1:length(xs)\n",
    "    p(i).expand().subs(x/Δ, δ) |> display\n",
    "end"
   ]
  },
  {
   "cell_type": "markdown",
   "metadata": {},
   "source": [
    "## Connecting piecewise LP-s"
   ]
  },
  {
   "cell_type": "code",
   "execution_count": 52,
   "metadata": {},
   "outputs": [
    {
     "data": {
      "text/latex": [
       "$\\left[ \\begin{array}{r}y_{0}\\\\y_{1}\\\\y_{2}\\\\y_{3}\\end{array} \\right]$\n"
      ],
      "text/plain": [
       "4-element Vector{Sym}:\n",
       " y_{0}\n",
       " y_{1}\n",
       " y_{2}\n",
       " y_{3}"
      ]
     },
     "metadata": {},
     "output_type": "display_data"
    }
   ],
   "source": [
    "idxs = -1:2\n",
    "xs0 = [i*Δ for i in idxs]\n",
    "ys0 = [symbols(\"y_{$i}\") for i in idxs]\n",
    "\n",
    "idxs = -0:3\n",
    "xs1 = [i*Δ for i in idxs]\n",
    "ys1 = [symbols(\"y_{$i}\") for i in idxs]"
   ]
  },
  {
   "cell_type": "markdown",
   "metadata": {},
   "source": []
  },
  {
   "cell_type": "code",
   "execution_count": 64,
   "metadata": {},
   "outputs": [
    {
     "data": {
      "text/latex": [
       "$\\begin{equation*}- \\frac{x^{3} y_{-1}}{6 Δ^{3}} + \\frac{x^{3} y_{0}}{2 Δ^{3}} - \\frac{x^{3} y_{1}}{2 Δ^{3}} + \\frac{x^{3} y_{2}}{6 Δ^{3}} + \\frac{x^{2} y_{-1}}{2 Δ^{2}} - \\frac{x^{2} y_{0}}{Δ^{2}} + \\frac{x^{2} y_{1}}{2 Δ^{2}} - \\frac{x y_{-1}}{3 Δ} - \\frac{x y_{0}}{2 Δ} + \\frac{x y_{1}}{Δ} - \\frac{x y_{2}}{6 Δ} + y_{0}\\end{equation*}$\n"
      ],
      "text/plain": [
       "   3           3          3          3          2           2          2      \n",
       "  x ⋅y_{-1}   x ⋅y_{0}   x ⋅y_{1}   x ⋅y_{2}   x ⋅y_{-1}   x ⋅y_{0}   x ⋅y_{1}\n",
       "- ───────── + ──────── - ──────── + ──────── + ───────── - ──────── + ────────\n",
       "        3          3          3          3           2         2           2  \n",
       "     6⋅Δ        2⋅Δ        2⋅Δ        6⋅Δ         2⋅Δ         Δ         2⋅Δ   \n",
       "\n",
       "                                                 \n",
       "   x⋅y_{-1}   x⋅y_{0}   x⋅y_{1}   x⋅y_{2}        \n",
       " - ──────── - ─────── + ─────── - ─────── + y_{0}\n",
       "     3⋅Δ        2⋅Δ        Δ        6⋅Δ          \n",
       "                                                 "
      ]
     },
     "metadata": {},
     "output_type": "display_data"
    },
    {
     "data": {
      "text/latex": [
       "$\\begin{equation*}- \\frac{x^{3} y_{0}}{6 Δ^{3}} + \\frac{x^{3} y_{1}}{2 Δ^{3}} - \\frac{x^{3} y_{2}}{2 Δ^{3}} + \\frac{x^{3} y_{3}}{6 Δ^{3}} + \\frac{x^{2} y_{0}}{Δ^{2}} - \\frac{5 x^{2} y_{1}}{2 Δ^{2}} + \\frac{2 x^{2} y_{2}}{Δ^{2}} - \\frac{x^{2} y_{3}}{2 Δ^{2}} - \\frac{11 x y_{0}}{6 Δ} + \\frac{3 x y_{1}}{Δ} - \\frac{3 x y_{2}}{2 Δ} + \\frac{x y_{3}}{3 Δ} + y_{0}\\end{equation*}$\n"
      ],
      "text/plain": [
       "   3          3          3          3          2            2            2    \n",
       "  x ⋅y_{0}   x ⋅y_{1}   x ⋅y_{2}   x ⋅y_{3}   x ⋅y_{0}   5⋅x ⋅y_{1}   2⋅x ⋅y_{\n",
       "- ──────── + ──────── - ──────── + ──────── + ──────── - ────────── + ────────\n",
       "       3          3          3          3         2            2           2  \n",
       "    6⋅Δ        2⋅Δ        2⋅Δ        6⋅Δ         Δ          2⋅Δ           Δ   \n",
       "\n",
       "      2                                                             \n",
       "2}   x ⋅y_{3}   11⋅x⋅y_{0}   3⋅x⋅y_{1}   3⋅x⋅y_{2}   x⋅y_{3}        \n",
       "── - ──────── - ────────── + ───────── - ───────── + ─────── + y_{0}\n",
       "          2        6⋅Δ           Δ          2⋅Δ        3⋅Δ          \n",
       "       2⋅Δ                                                          "
      ]
     },
     "metadata": {},
     "output_type": "display_data"
    }
   ],
   "source": [
    "pol0 = sum(y*p(j,xs0) for (j,y) in enumerate(ys0)).expand()#.subs(x/Δ, δ)\n",
    "pol1 = sum(y*p(j,xs1) for (j,y) in enumerate(ys1)).expand()#.subs(x/Δ, δ);\n",
    "display(pol0)\n",
    "display(pol1)"
   ]
  },
  {
   "cell_type": "code",
   "execution_count": 65,
   "metadata": {},
   "outputs": [
    {
     "data": {
      "text/latex": [
       "$\\begin{equation*}0\\end{equation*}$\n"
      ],
      "text/plain": [
       "0"
      ]
     },
     "metadata": {},
     "output_type": "display_data"
    }
   ],
   "source": [
    "pol0.subs(x,Δ) - pol1.subs(x,Δ)"
   ]
  },
  {
   "cell_type": "code",
   "execution_count": 66,
   "metadata": {},
   "outputs": [
    {
     "data": {
      "text/latex": [
       "$\\begin{equation*}\\frac{y_{-1}}{6 Δ} - \\frac{2 y_{0}}{3 Δ} + \\frac{y_{1}}{Δ} - \\frac{2 y_{2}}{3 Δ} + \\frac{y_{3}}{6 Δ}\\end{equation*}$\n"
      ],
      "text/plain": [
       "y_{-1}   2⋅y_{0}   y_{1}   2⋅y_{2}   y_{3}\n",
       "────── - ─────── + ───── - ─────── + ─────\n",
       " 6⋅Δ       3⋅Δ       Δ       3⋅Δ      6⋅Δ "
      ]
     },
     "metadata": {},
     "output_type": "display_data"
    }
   ],
   "source": [
    "pol0.diff(x).subs(x,Δ) - pol1.diff(x).subs(x,Δ)"
   ]
  },
  {
   "cell_type": "code",
   "execution_count": 67,
   "metadata": {},
   "outputs": [
    {
     "data": {
      "text/latex": [
       "$\\begin{equation*}0\\end{equation*}$\n"
      ],
      "text/plain": [
       "0"
      ]
     },
     "metadata": {},
     "output_type": "display_data"
    }
   ],
   "source": [
    "pol0.diff(x,2).subs(x,Δ) - pol1.diff(x,2).subs(x,Δ)"
   ]
  },
  {
   "cell_type": "code",
   "execution_count": 59,
   "metadata": {},
   "outputs": [
    {
     "data": {
      "text/latex": [
       "$\\left[ \\begin{array}{r}- Δ\\\\0\\\\Δ\\\\2 Δ\\end{array} \\right]$\n"
      ],
      "text/plain": [
       "4-element Vector{Sym}:\n",
       "  -Δ\n",
       "   0\n",
       "   Δ\n",
       " 2⋅Δ"
      ]
     },
     "metadata": {},
     "output_type": "display_data"
    },
    {
     "data": {
      "text/latex": [
       "$\\left[ \\begin{array}{r}0\\\\Δ\\\\2 Δ\\\\3 Δ\\end{array} \\right]$\n"
      ],
      "text/plain": [
       "4-element Vector{Sym}:\n",
       "   0\n",
       "   Δ\n",
       " 2⋅Δ\n",
       " 3⋅Δ"
      ]
     },
     "metadata": {},
     "output_type": "display_data"
    }
   ],
   "source": [
    "xs0|>display\n",
    "xs1|>display"
   ]
  },
  {
   "cell_type": "markdown",
   "metadata": {},
   "source": [
    "# Fifth order polynomial interpolation"
   ]
  },
  {
   "cell_type": "code",
   "execution_count": 1,
   "metadata": {},
   "outputs": [
    {
     "data": {
      "text/latex": [
       "$\\left[ \\begin{array}{r}c_{0}\\\\c_{1}\\\\c_{2}\\\\c_{3}\\\\c_{4}\\\\c_{5}\\end{array} \\right]$\n"
      ],
      "text/plain": [
       "6-element Vector{Sym}:\n",
       " c_{0}\n",
       " c_{1}\n",
       " c_{2}\n",
       " c_{3}\n",
       " c_{4}\n",
       " c_{5}"
      ]
     },
     "metadata": {},
     "output_type": "display_data"
    }
   ],
   "source": [
    "using SymPy\n",
    "\n",
    "@syms x Δ δ\n",
    "xs = [i*Δ for i in -1:2]\n",
    "ys = [\n",
    "    symbols(\"y_{i-1}\"),\n",
    "    symbols(\"y_{i}\"),\n",
    "    symbols(\"y_{i+1}\"),\n",
    "    symbols(\"y_{i+2}\"),\n",
    "]\n",
    "cs = [symbols(\"c_{$i}\") for i in 0:5]"
   ]
  },
  {
   "cell_type": "code",
   "execution_count": 2,
   "metadata": {},
   "outputs": [
    {
     "data": {
      "text/plain": [
       "disc_diff2 (generic function with 2 methods)"
      ]
     },
     "metadata": {},
     "output_type": "display_data"
    }
   ],
   "source": [
    "disc_diff(i, ys = ys) = (ys[i+1] - ys[i-1])/(2Δ)\n",
    "disc_diff2(i, ys = ys) = (ys[i+1] -2*ys[i] + ys[i-1])/(Δ^2)"
   ]
  },
  {
   "cell_type": "code",
   "execution_count": 3,
   "metadata": {},
   "outputs": [
    {
     "data": {
      "text/latex": [
       "$\\begin{equation*}δ^{5} - \\frac{5 δ^{4}}{2} + \\frac{3 δ^{3}}{2} + \\frac{δ^{2}}{2} - \\frac{δ}{2}\\end{equation*}$\n"
      ],
      "text/plain": [
       "        4      3    2    \n",
       " 5   5⋅δ    3⋅δ    δ    δ\n",
       "δ  - ──── + ──── + ── - ─\n",
       "      2      2     2    2"
      ]
     },
     "metadata": {},
     "output_type": "display_data"
    },
    {
     "data": {
      "text/latex": [
       "$\\begin{equation*}- 3 δ^{5} + \\frac{15 δ^{4}}{2} - \\frac{9 δ^{3}}{2} - δ^{2} + 1\\end{equation*}$\n"
      ],
      "text/plain": [
       "             4      3         \n",
       "     5   15⋅δ    9⋅δ     2    \n",
       "- 3⋅δ  + ───── - ──── - δ  + 1\n",
       "           2      2           "
      ]
     },
     "metadata": {},
     "output_type": "display_data"
    },
    {
     "data": {
      "text/latex": [
       "$\\begin{equation*}3 δ^{5} - \\frac{15 δ^{4}}{2} + \\frac{9 δ^{3}}{2} + \\frac{δ^{2}}{2} + \\frac{δ}{2}\\end{equation*}$\n"
      ],
      "text/plain": [
       "           4      3    2    \n",
       "   5   15⋅δ    9⋅δ    δ    δ\n",
       "3⋅δ  - ───── + ──── + ── + ─\n",
       "         2      2     2    2"
      ]
     },
     "metadata": {},
     "output_type": "display_data"
    },
    {
     "data": {
      "text/latex": [
       "$\\begin{equation*}- δ^{5} + \\frac{5 δ^{4}}{2} - \\frac{3 δ^{3}}{2}\\end{equation*}$\n"
      ],
      "text/plain": [
       "          4      3\n",
       "   5   5⋅δ    3⋅δ \n",
       "- δ  + ──── - ────\n",
       "        2      2  "
      ]
     },
     "metadata": {},
     "output_type": "display_data"
    },
    {
     "name": "stdout",
     "output_type": "stream",
     "text": [
      "┌ Warning: `vendor()` is deprecated, use `BLAS.get_config()` and inspect the output instead\n",
      "│   caller = npyinitialize() at numpy.jl:67\n",
      "└ @ PyCall /home/htsykora/.julia/packages/PyCall/3fwVL/src/numpy.jl:67\n"
     ]
    }
   ],
   "source": [
    "quintic_pol = sum(symbols(\"c_{$i}\")*x^i for i in 0:5)\n",
    "eqs = [\n",
    "    quintic_pol.subs(x,xs[2]) - ys[2], # f(0)\n",
    "    quintic_pol.subs(x,xs[3]) - ys[3], # f(Δ)\n",
    "    quintic_pol.diff(x).subs(x,xs[2]) - disc_diff(2,ys),# f'(0)\n",
    "    quintic_pol.diff(x).subs(x,xs[3]) - disc_diff(3,ys), # f'(Δ)\n",
    "    quintic_pol.diff(x,2).subs(x,xs[2]) - disc_diff2(2,ys),# f''(0)\n",
    "    quintic_pol.diff(x,2).subs(x,xs[3]) - disc_diff2(3,ys), # f''(Δ)\n",
    "]\n",
    "eqs = expand.(eqs)\n",
    "\n",
    "sol = solve(eqs,cs)\n",
    "appr = quintic_pol.subs(sol) |> expand\n",
    "\n",
    "for y in ys\n",
    "    appr.coeff(y).subs(x/Δ,δ) |> display\n",
    "end"
   ]
  },
  {
   "cell_type": "code",
   "execution_count": 4,
   "metadata": {},
   "outputs": [
    {
     "data": {
      "text/latex": [
       "$\\begin{equation*}0\\end{equation*}$\n"
      ],
      "text/plain": [
       "0"
      ]
     },
     "metadata": {},
     "output_type": "display_data"
    },
    {
     "data": {
      "text/latex": [
       "$\\begin{equation*}\\frac{δ^{2}}{2} - \\frac{3 δ}{2} + 1\\end{equation*}$\n"
      ],
      "text/plain": [
       " 2          \n",
       "δ    3⋅δ    \n",
       "── - ─── + 1\n",
       "2     2     "
      ]
     },
     "metadata": {},
     "output_type": "display_data"
    },
    {
     "data": {
      "text/latex": [
       "$\\begin{equation*}- δ^{2} + 2 δ\\end{equation*}$\n"
      ],
      "text/plain": [
       "   2      \n",
       "- δ  + 2⋅δ"
      ]
     },
     "metadata": {},
     "output_type": "display_data"
    },
    {
     "data": {
      "text/latex": [
       "$\\begin{equation*}\\frac{δ^{2}}{2} - \\frac{δ}{2}\\end{equation*}$\n"
      ],
      "text/plain": [
       " 2    \n",
       "δ    δ\n",
       "── - ─\n",
       "2    2"
      ]
     },
     "metadata": {},
     "output_type": "display_data"
    }
   ],
   "source": [
    "# Beginning: not enforcing unknown conditions\n",
    "cubic_pol = sum(symbols(\"c_{$i}\")*x^i for i in 0:3)\n",
    "eqs = [\n",
    "    cubic_pol.subs(x,xs[2]) - ys[2], # f(0)\n",
    "    cubic_pol.subs(x,xs[3]) - ys[3], # f(Δ)\n",
    "    cubic_pol.diff(x).subs(x,xs[3]) - disc_diff(3,ys), # f'(Δ)\n",
    "    cubic_pol.diff(x,2).subs(x,xs[3]) - disc_diff2(3,ys), # f''(Δ)\n",
    "]\n",
    "eqs = expand.(eqs)\n",
    "\n",
    "sol = solve(eqs,cs)\n",
    "appr = cubic_pol.subs(sol) |> expand\n",
    "\n",
    "for y in ys\n",
    "    appr.coeff(y).subs(x/Δ,δ) |> display\n",
    "end"
   ]
  },
  {
   "cell_type": "code",
   "execution_count": 7,
   "metadata": {},
   "outputs": [
    {
     "data": {
      "text/latex": [
       "$\\begin{equation*}\\frac{δ^{2}}{2} - \\frac{δ}{2}\\end{equation*}$\n"
      ],
      "text/plain": [
       " 2    \n",
       "δ    δ\n",
       "── - ─\n",
       "2    2"
      ]
     },
     "metadata": {},
     "output_type": "display_data"
    },
    {
     "data": {
      "text/latex": [
       "$\\begin{equation*}1 - δ^{2}\\end{equation*}$\n"
      ],
      "text/plain": [
       "     2\n",
       "1 - δ "
      ]
     },
     "metadata": {},
     "output_type": "display_data"
    },
    {
     "data": {
      "text/latex": [
       "$\\begin{equation*}\\frac{δ^{2}}{2} + \\frac{δ}{2}\\end{equation*}$\n"
      ],
      "text/plain": [
       " 2    \n",
       "δ    δ\n",
       "── + ─\n",
       "2    2"
      ]
     },
     "metadata": {},
     "output_type": "display_data"
    },
    {
     "data": {
      "text/latex": [
       "$\\begin{equation*}0\\end{equation*}$\n"
      ],
      "text/plain": [
       "0"
      ]
     },
     "metadata": {},
     "output_type": "display_data"
    }
   ],
   "source": [
    "# End: not enforcing unknown conditions\n",
    "cubic_pol = sum(symbols(\"c_{$i}\")*x^i for i in 0:3)\n",
    "eqs = [\n",
    "    cubic_pol.subs(x,xs[2]) - ys[2], # f(0)\n",
    "    cubic_pol.subs(x,xs[3]) - ys[3], # f(Δ)\n",
    "    cubic_pol.diff(x).subs(x,xs[2]) - disc_diff(2,ys),# f'(0)\n",
    "    cubic_pol.diff(x,2).subs(x,xs[2]) - disc_diff2(2,ys),# f''(0)\n",
    "]\n",
    "eqs = expand.(eqs)\n",
    "\n",
    "sol = solve(eqs, cs)\n",
    "appr = cubic_pol.subs(sol) |> expand\n",
    "\n",
    "for y in ys\n",
    "    appr.coeff(y).subs(x/Δ,δ) |> display\n",
    "end"
   ]
  },
  {
   "cell_type": "code",
   "execution_count": 9,
   "metadata": {},
   "outputs": [
    {
     "data": {
      "text/latex": [
       "$\\begin{equation*}c_{0} + c_{1} x + c_{2} x^{2} + c_{3} x^{3}\\end{equation*}$\n"
      ],
      "text/plain": [
       "                         2          3\n",
       "c_{0} + c_{1}⋅x + c_{2}⋅x  + c_{3}⋅x "
      ]
     },
     "metadata": {},
     "output_type": "display_data"
    }
   ],
   "source": [
    "cubic_pol"
   ]
  },
  {
   "cell_type": "code",
   "execution_count": 11,
   "metadata": {},
   "outputs": [
    {
     "data": {
      "text/latex": [
       "$\\left[ \\begin{array}{r}c_{0} - y_{i}\\\\c_{0} + c_{1} Δ + c_{2} Δ^{2} + c_{3} Δ^{3} - y_{i+1}\\\\c_{1} - \\frac{y_{i+1}}{2 Δ} + \\frac{y_{i-1}}{2 Δ}\\\\2 c_{2} - \\frac{y_{i+1}}{Δ^{2}} - \\frac{y_{i-1}}{Δ^{2}} + \\frac{2 y_{i}}{Δ^{2}}\\end{array} \\right]$\n"
      ],
      "text/plain": [
       "4-element Vector{Sym}:\n",
       "                                     c_{0} - y_{i}\n",
       " c_{0} + c_{1}*Δ + c_{2}*Δ^2 + c_{3}*Δ^3 - y_{i+1}\n",
       "             c_{1} - y_{i+1}/(2*Δ) + y_{i-1}/(2*Δ)\n",
       " 2*c_{2} - y_{i+1}/Δ^2 - y_{i-1}/Δ^2 + 2*y_{i}/Δ^2"
      ]
     },
     "metadata": {},
     "output_type": "display_data"
    }
   ],
   "source": [
    "eqs"
   ]
  },
  {
   "cell_type": "code",
   "execution_count": 12,
   "metadata": {},
   "outputs": [
    {
     "data": {
      "text/plain": [
       "Dict{Any, Any} with 4 entries:\n",
       "  c_{1} => (y_{i+1} - y_{i-1})/(2*Δ)\n",
       "  c_{2} => (y_{i+1} + y_{i-1} - 2*y_{i})/(2*Δ^2)\n",
       "  c_{3} => 0\n",
       "  c_{0} => y_{i}"
      ]
     },
     "metadata": {},
     "output_type": "display_data"
    }
   ],
   "source": [
    "sol"
   ]
  },
  {
   "cell_type": "code",
   "execution_count": null,
   "metadata": {},
   "outputs": [],
   "source": []
  }
 ],
 "metadata": {
  "kernelspec": {
   "display_name": "Julia 1.7.0-rc2",
   "language": "julia",
   "name": "julia-1.7"
  },
  "language_info": {
   "file_extension": ".jl",
   "mimetype": "application/julia",
   "name": "julia",
   "version": "1.7.0-rc2"
  },
  "orig_nbformat": 4
 },
 "nbformat": 4,
 "nbformat_minor": 2
}
